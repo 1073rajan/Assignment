{
 "cells": [
  {
   "cell_type": "markdown",
   "id": "7c38b736",
   "metadata": {},
   "source": [
    "#   Python Assignment 2"
   ]
  },
  {
   "cell_type": "markdown",
   "id": "d7feb947",
   "metadata": {},
   "source": [
    "### 1.What are the two values of the Boolean data type? How do you write them?"
   ]
  },
  {
   "cell_type": "code",
   "execution_count": 1,
   "id": "dd9638e5",
   "metadata": {},
   "outputs": [
    {
     "name": "stdout",
     "output_type": "stream",
     "text": [
      "False\n",
      "True\n",
      "<class 'bool'>\n",
      "<class 'bool'>\n"
     ]
    }
   ],
   "source": [
    "## Ans:- 1. True\n",
    "   ## 2. False\n",
    "    \n",
    "    # Example\n",
    "x=12\n",
    "y=13\n",
    "z=(x==y)\n",
    "q=(x!=y)\n",
    "print(z)\n",
    "print(q)\n",
    "print(type(z))\n",
    "print(type(q))"
   ]
  },
  {
   "cell_type": "markdown",
   "id": "33e3b87c",
   "metadata": {},
   "source": [
    "### 2. What are the three different types of Boolean operators?"
   ]
  },
  {
   "cell_type": "markdown",
   "id": "208cd89b",
   "metadata": {},
   "source": [
    "#### Ans:- Three types of boolean operators are AND,OR,NOT\n",
    "    "
   ]
  },
  {
   "cell_type": "code",
   "execution_count": 2,
   "id": "3c5b1cce",
   "metadata": {
    "scrolled": true
   },
   "outputs": [
    {
     "name": "stdout",
     "output_type": "stream",
     "text": [
      "AND Operator ===================\n",
      "0 and 1 = 0\n",
      "1 and 1 = 1\n",
      "0 and 0 = 0\n",
      "1 and 0 = 0\n",
      "OR Operator ===================\n",
      "0 or 1 = 1\n",
      "1 or 1 = 1\n",
      "0 or 0 = 0\n",
      "1 or 0 = 1\n",
      "\n",
      "Enter the namerajan\n",
      "yes there is a present\n"
     ]
    }
   ],
   "source": [
    "# Example:-\n",
    "\n",
    "x=0\n",
    "y=1\n",
    "a=0\n",
    "b=1\n",
    "\n",
    "# AND Operator \n",
    "z= x and y\n",
    "q= y and b\n",
    "r= x and a\n",
    "s= b and a\n",
    "print(\"AND Operator ===================\")\n",
    "print(\"0 and 1 =\",z)\n",
    "print(\"1 and 1 =\",q)\n",
    "print(\"0 and 0 =\",r)\n",
    "print(\"1 and 0 =\",s)\n",
    "\n",
    "# OR Operator\n",
    "z= x or y\n",
    "q= y or b\n",
    "r= x or a\n",
    "s= b or a\n",
    "print(\"OR Operator ===================\")\n",
    "print(\"0 or 1 =\",z)\n",
    "print(\"1 or 1 =\",q)\n",
    "print(\"0 or 0 =\",r)\n",
    "print(\"1 or 0 =\",s)\n",
    "\n",
    "# NOT Operator Example:-\n",
    "\n",
    "name=input(\"\\nEnter the name\")\n",
    "\n",
    "if \"a\" not in name:\n",
    "    print(\"There is no a in this name\")\n",
    "else:\n",
    "    print(\"yes there is a present\")\n"
   ]
  },
  {
   "cell_type": "markdown",
   "id": "e50e1886",
   "metadata": {},
   "source": [
    "### 3. Make a list of each Boolean operator truth tables (i.e. every possible combination of Boolean\n",
    "### values for the operator and what it evaluate )."
   ]
  },
  {
   "cell_type": "markdown",
   "id": "2f75ea22",
   "metadata": {},
   "source": [
    "#### Ans:- \n",
    "\n",
    "#### OR OPERATOR\n",
    "\n",
    "#### A | B | OUTPUT\n",
    "#### 0 | 0 | 0\n",
    "#### 0 | 1 | 1\n",
    "#### 1 | 0 | 1\n",
    "#### 1 | 1 | 1\n",
    "------------------------\n",
    "#### AND OPERATOR\n",
    "\n",
    "#### A | B | OUTPUT\n",
    "#### 0 | 0 | 0\n",
    "#### 0 | 1 | 0\n",
    "#### 1 | 0 | 0\n",
    "#### 1 | 1 | 1\n",
    "------------------------\n",
    "#### NOT OPERATOR\n",
    "\n",
    "#### A | OUTPUT\n",
    "#### 0 | 1\n",
    "#### 1 | 0"
   ]
  },
  {
   "cell_type": "markdown",
   "id": "4334cc6c",
   "metadata": {},
   "source": [
    "### 4. What are the values of the following expressions?"
   ]
  },
  {
   "cell_type": "code",
   "execution_count": 3,
   "id": "cdcbc5b0",
   "metadata": {},
   "outputs": [
    {
     "name": "stdout",
     "output_type": "stream",
     "text": [
      "False\n",
      "False\n",
      "True\n",
      "False\n",
      "False\n",
      "True\n"
     ]
    }
   ],
   "source": [
    "# Answer of the following expression:-\n",
    "print((5 > 4) and (3 == 5))\n",
    "print(not (5 > 4))\n",
    "print((5 > 4) or (3 == 5))\n",
    "print(not ((5 > 4) or (3 == 5)))\n",
    "print((True and True) and (True == False))\n",
    "print((not False) or (not True))"
   ]
  },
  {
   "cell_type": "markdown",
   "id": "36990fba",
   "metadata": {},
   "source": [
    "### 5. What are the six comparison operators?"
   ]
  },
  {
   "cell_type": "markdown",
   "id": "8314b9d0",
   "metadata": {},
   "source": [
    "#### Ans:-    == , != , > , < , >= , <="
   ]
  },
  {
   "cell_type": "markdown",
   "id": "0a19a5e2",
   "metadata": {},
   "source": [
    "### 6. How do you tell the difference between the equal to and assignment operators?Describe a\n",
    "### condition and when you would use one."
   ]
  },
  {
   "cell_type": "markdown",
   "id": "b2b192b5",
   "metadata": {},
   "source": [
    "Ans:-\"==\" is equal to operator that compare two value and evaluate boolean. where \"=\" is assignment operator to store a value in a variable"
   ]
  },
  {
   "cell_type": "code",
   "execution_count": 4,
   "id": "31da7760",
   "metadata": {},
   "outputs": [
    {
     "name": "stdout",
     "output_type": "stream",
     "text": [
      "True\n",
      "False\n",
      "Rajan kumar\n"
     ]
    }
   ],
   "source": [
    "# Example of equal to operator:-\n",
    "x=5\n",
    "y=6\n",
    "print(x==5)\n",
    "print(x==y)\n",
    "\n",
    "# Example of assignment operator:-\n",
    "\n",
    "name=\"Rajan kumar\"\n",
    "print(name)\n",
    "\n"
   ]
  },
  {
   "cell_type": "markdown",
   "id": "a6c4f5f4",
   "metadata": {},
   "source": [
    "### 7. Identify the three blocks in this code:"
   ]
  },
  {
   "cell_type": "code",
   "execution_count": 5,
   "id": "aecbaa62",
   "metadata": {},
   "outputs": [
    {
     "name": "stdout",
     "output_type": "stream",
     "text": [
      "ham\n",
      "spam\n",
      "spam\n"
     ]
    }
   ],
   "source": [
    "# Answer:-\n",
    "spam = 0\n",
    "if spam == 10:\n",
    "    print('eggs') # 1 Block\n",
    "if spam > 5:\n",
    "    print('bacon') # 2 Block\n",
    "else:\n",
    "    print('ham') #Block 3  This block will true because spam = 0. so it will execute. \n",
    "    print('spam')\n",
    "    print('spam')"
   ]
  },
  {
   "cell_type": "markdown",
   "id": "5733f659",
   "metadata": {},
   "source": [
    "### 8. Write code that prints Hello if 1 is stored in spam, prints Howdy if 2 is stored in spam, and prints\n",
    "### Greetings! if anything else is stored in spam."
   ]
  },
  {
   "cell_type": "code",
   "execution_count": 6,
   "id": "f7dfe129",
   "metadata": {},
   "outputs": [
    {
     "name": "stdout",
     "output_type": "stream",
     "text": [
      "Enter spam2\n",
      "Howdy\n"
     ]
    }
   ],
   "source": [
    "# Answer:-\n",
    "spam = int(input(\"Enter spam\"))\n",
    "if spam==1:\n",
    "    print(\"Hello\")\n",
    "if spam==2:\n",
    "    print(\"Howdy\")\n",
    "else:\n",
    "    print(\"Greetings! Welcome to iNeuron\")"
   ]
  },
  {
   "cell_type": "markdown",
   "id": "547e5c53",
   "metadata": {},
   "source": [
    "### 9.If your programme is stuck in an endless loop, what keys you’ll press?"
   ]
  },
  {
   "cell_type": "markdown",
   "id": "2a648920",
   "metadata": {},
   "source": [
    "#### Ans:- we'll press \"ctrl+c\" to exit from the loop"
   ]
  },
  {
   "cell_type": "markdown",
   "id": "a6d43779",
   "metadata": {},
   "source": [
    "### 10. How can you tell the difference between break and continue?"
   ]
  },
  {
   "cell_type": "markdown",
   "id": "cb88b139",
   "metadata": {},
   "source": [
    "#### Ans:-The break keyword is used Break  statement the control will be out from the loop and it is used to stop the execution of the loop at a specific condition.while Continue in cotinue statements the control remains with in the loop and it is used to skip particular iteration of the loop."
   ]
  },
  {
   "cell_type": "code",
   "execution_count": 7,
   "id": "39814d40",
   "metadata": {},
   "outputs": [
    {
     "name": "stdout",
     "output_type": "stream",
     "text": [
      "Break statement-------\n",
      "0\n",
      "1\n",
      "2\n",
      "3\n",
      "4\n",
      "5\n",
      "6\n",
      "continue statement-------\n",
      "0\n",
      "1\n",
      "2\n",
      "4\n",
      "5\n",
      "6\n",
      "7\n",
      "8\n",
      "9\n",
      "10\n",
      "11\n",
      "12\n"
     ]
    }
   ],
   "source": [
    "# Example:\n",
    "# Break statements\n",
    "print(\"Break statement-------\")\n",
    "for i in range (9):\n",
    "    if i==7:\n",
    "        break\n",
    "    print(i)\n",
    "    \n",
    "# Continue \n",
    "print(\"continue statement-------\")\n",
    "for i in range (13):\n",
    "    if i==3:\n",
    "        continue\n",
    "    print(i)"
   ]
  },
  {
   "cell_type": "markdown",
   "id": "ee235581",
   "metadata": {},
   "source": [
    "### 11. In a for loop, what is the difference between range(10), range(0, 10), and range(0, 10, 1)?"
   ]
  },
  {
   "cell_type": "code",
   "execution_count": 8,
   "id": "4dda476c",
   "metadata": {},
   "outputs": [
    {
     "name": "stdout",
     "output_type": "stream",
     "text": [
      "range(10) its print that value  will be print 0 t0 9\n",
      "0\n",
      "1\n",
      "2\n",
      "3\n",
      "4\n",
      "5\n",
      "6\n",
      "7\n",
      "8\n",
      "9\n",
      "range(0,10) its mean that starting point is 0 to n-1 that is 0 to 9\n",
      "------------------\n",
      "0\n",
      "1\n",
      "2\n",
      "3\n",
      "4\n",
      "5\n",
      "6\n",
      "7\n",
      "8\n",
      "9\n",
      "range(1,10,1) here 0 is starting point 10 mean n-1 ending points and 1 is to add 1 in each iteration\n",
      "------------------\n",
      "0\n",
      "1\n",
      "2\n",
      "3\n",
      "4\n",
      "5\n",
      "6\n",
      "7\n",
      "8\n",
      "9\n",
      "------------------\n"
     ]
    }
   ],
   "source": [
    "# Answer:-\n",
    "print(\"range(10) its print that value  will be print 0 t0 9\")\n",
    "for i in range(10):  # range(10) its print that value  will be print 0 t0 9\n",
    "    print(i)\n",
    "    \n",
    "print(\"range(0,10) its mean that starting point is 0 to n-1 that is 0 to 9\")\n",
    "print(\"------------------\")\n",
    "for i in range(0,10):  # range(0,10) its mean that starting point is 0 to n-1 that is 0 to 9\n",
    "    print(i)\n",
    "\n",
    "print(\"range(1,10,1) here 0 is starting point 10 mean n-1 ending points and 1 is to add 1 in each iteration\")\n",
    "print(\"------------------\")\n",
    "for i in range(0,10,1):  # range(1,10,1) here 0 is starting point 10 mean n-1 ending points and 1 is to add 1 in each iteration\n",
    "    print(i)\n",
    "    \n",
    "print(\"------------------\")"
   ]
  },
  {
   "cell_type": "markdown",
   "id": "2364760b",
   "metadata": {},
   "source": [
    "### 12. Write a short program that prints the numbers 1 to 10 using a for loop. Then write an equivalent\n",
    "### program that prints the numbers 1 to 10 using a while loop."
   ]
  },
  {
   "cell_type": "code",
   "execution_count": 9,
   "id": "dddd3866",
   "metadata": {},
   "outputs": [
    {
     "name": "stdout",
     "output_type": "stream",
     "text": [
      "prints the numbers 1 to 10 using a for loop\n",
      "1\n",
      "2\n",
      "3\n",
      "4\n",
      "5\n",
      "6\n",
      "7\n",
      "8\n",
      "9\n",
      "10\n",
      "============================\n",
      "prints the numbers 1 to 10 using a while loop.\n",
      "1\n",
      "2\n",
      "3\n",
      "4\n",
      "5\n",
      "6\n",
      "7\n",
      "8\n",
      "9\n",
      "10\n"
     ]
    }
   ],
   "source": [
    "# answer:-\n",
    "print(\"prints the numbers 1 to 10 using a for loop\")\n",
    "\n",
    "for i in range(1,11):\n",
    "    print(i)\n",
    "print(\"============================\")\n",
    "\n",
    "\n",
    "print(\"prints the numbers 1 to 10 using a while loop.\")\n",
    "\n",
    "n=0\n",
    "while (n<10):\n",
    "    n=n+1\n",
    "    print(n)\n",
    "    \n"
   ]
  },
  {
   "cell_type": "markdown",
   "id": "4f362bc2",
   "metadata": {},
   "source": [
    "### 13. If you had a function named bacon() inside a module named spam, how would you call it after\n",
    "### importing spam?"
   ]
  },
  {
   "cell_type": "markdown",
   "id": "005ccfc9",
   "metadata": {},
   "source": [
    "#### Ans:- we would call like spam.bacon()"
   ]
  },
  {
   "cell_type": "code",
   "execution_count": null,
   "id": "cfd98e27",
   "metadata": {},
   "outputs": [],
   "source": []
  }
 ],
 "metadata": {
  "kernelspec": {
   "display_name": "Python 3 (ipykernel)",
   "language": "python",
   "name": "python3"
  },
  "language_info": {
   "codemirror_mode": {
    "name": "ipython",
    "version": 3
   },
   "file_extension": ".py",
   "mimetype": "text/x-python",
   "name": "python",
   "nbconvert_exporter": "python",
   "pygments_lexer": "ipython3",
   "version": "3.9.7"
  }
 },
 "nbformat": 4,
 "nbformat_minor": 5
}
