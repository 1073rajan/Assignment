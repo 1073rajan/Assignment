{
 "cells": [
  {
   "cell_type": "markdown",
   "id": "eaf0948e",
   "metadata": {},
   "source": [
    "# Python Assignment 6"
   ]
  },
  {
   "cell_type": "markdown",
   "id": "272f234b",
   "metadata": {},
   "source": [
    "### Q.1. What are keywords in python? Using the keyword library, print all the python keywords."
   ]
  },
  {
   "cell_type": "code",
   "execution_count": 1,
   "id": "0341d455",
   "metadata": {},
   "outputs": [
    {
     "name": "stdout",
     "output_type": "stream",
     "text": [
      "['False', 'None', 'True', '__peg_parser__', 'and', 'as', 'assert', 'async', 'await', 'break', 'class', 'continue', 'def', 'del', 'elif', 'else', 'except', 'finally', 'for', 'from', 'global', 'if', 'import', 'in', 'is', 'lambda', 'nonlocal', 'not', 'or', 'pass', 'raise', 'return', 'try', 'while', 'with', 'yield']\n"
     ]
    }
   ],
   "source": [
    "# Answer:-\n",
    "import keyword \n",
    "print(keyword.kwlist)"
   ]
  },
  {
   "cell_type": "markdown",
   "id": "6287f048",
   "metadata": {},
   "source": [
    "### Q.2. What are the rules to create variables in python?"
   ]
  },
  {
   "cell_type": "markdown",
   "id": "de451741",
   "metadata": {},
   "source": [
    "### Rules:-\n",
    "\n",
    "1.A variable in python must be start with letter or the underscore character.\n",
    "\n",
    "2.A variable can not start with digit.\n",
    "\n",
    "3.The reserved word can not use for nameing of variable.\n",
    "\n",
    "4.variable in python names are case-sensitive.\n",
    "\n",
    "5.A python variable name can only contain alpha-numeric character and underscores."
   ]
  },
  {
   "cell_type": "markdown",
   "id": "2259a99f",
   "metadata": {},
   "source": [
    "### Q.3. What are the standards and conventions followed for the nomenclature of variables in python to improve code readability and maintainability?"
   ]
  },
  {
   "cell_type": "markdown",
   "id": "f93950e5",
   "metadata": {},
   "source": [
    "#### Answer:-\n",
    "For variable name it always good to write in lowecase\n",
    "\n",
    "we can mention during name of variable underscore as a separator while naming a multi-word instance variable."
   ]
  },
  {
   "cell_type": "code",
   "execution_count": 2,
   "id": "6da51db8",
   "metadata": {},
   "outputs": [],
   "source": [
    "# Example:-\n",
    "digit=3\n",
    "d_1=3"
   ]
  },
  {
   "cell_type": "markdown",
   "id": "530b2478",
   "metadata": {},
   "source": [
    "### Q.4. What will happen if a keyword is used as a variable name?"
   ]
  },
  {
   "cell_type": "markdown",
   "id": "69031351",
   "metadata": {},
   "source": [
    "#### Answer:-\n",
    "It will show error"
   ]
  },
  {
   "cell_type": "code",
   "execution_count": 3,
   "id": "9952c48d",
   "metadata": {},
   "outputs": [
    {
     "ename": "SyntaxError",
     "evalue": "invalid syntax (Temp/ipykernel_7676/2453355577.py, line 2)",
     "output_type": "error",
     "traceback": [
      "\u001b[1;36m  File \u001b[1;32m\"C:\\Users\\rajan\\AppData\\Local\\Temp/ipykernel_7676/2453355577.py\"\u001b[1;36m, line \u001b[1;32m2\u001b[0m\n\u001b[1;33m    def=5 ## def is a keyword so it will throw an error\u001b[0m\n\u001b[1;37m       ^\u001b[0m\n\u001b[1;31mSyntaxError\u001b[0m\u001b[1;31m:\u001b[0m invalid syntax\n"
     ]
    }
   ],
   "source": [
    "# Example:-\n",
    "def=5 ## def is a keyword so it will throw an error"
   ]
  },
  {
   "cell_type": "markdown",
   "id": "26348abe",
   "metadata": {},
   "source": [
    "### Q.5. For what purpose def keyword is used?"
   ]
  },
  {
   "cell_type": "markdown",
   "id": "a06a2fc0",
   "metadata": {},
   "source": [
    "#### Answer:-\n",
    "def keyword is used to creating a function in python."
   ]
  },
  {
   "cell_type": "code",
   "execution_count": 4,
   "id": "7a7141ad",
   "metadata": {},
   "outputs": [
    {
     "name": "stdout",
     "output_type": "stream",
     "text": [
      "iNeuron\n"
     ]
    }
   ],
   "source": [
    "def function_name():\n",
    "    print(\"iNeuron\")\n",
    "    \n",
    "function_name()"
   ]
  },
  {
   "cell_type": "markdown",
   "id": "79902b78",
   "metadata": {},
   "source": [
    "### Q.6. What is the operation of this special character ‘\\’?"
   ]
  },
  {
   "cell_type": "markdown",
   "id": "0122e528",
   "metadata": {},
   "source": [
    "#### Answer:-\n",
    "Special character ‘\\’ it is used: \"\\t\" is a tab, \"\\n\" is a newline, and \"\\r\" is a carriage return."
   ]
  },
  {
   "cell_type": "markdown",
   "id": "855c0ae7",
   "metadata": {},
   "source": [
    "### Q.7. Give an example of the following conditions:"
   ]
  },
  {
   "cell_type": "markdown",
   "id": "2b943d97",
   "metadata": {},
   "source": [
    "(i) Homogeneous list\n",
    "\n",
    "(ii) Heterogeneous set\n",
    "\n",
    "(iii) Homogeneous tuple"
   ]
  },
  {
   "cell_type": "code",
   "execution_count": 5,
   "id": "dcd36a65",
   "metadata": {},
   "outputs": [
    {
     "name": "stdout",
     "output_type": "stream",
     "text": [
      "Homogeneouse list ['Mango', 'Banana', 'Guava', 'Papaya']\n",
      "Heterogeneous set {0, 2.3, 4, 'mango', 'Papaya'}\n",
      "Homogeneous tuple (8, 6, 3, 6, 2)\n"
     ]
    }
   ],
   "source": [
    "## Answer:-\n",
    "# Homogeneouse list\n",
    "#Homogeneous means that it only contains same type of data\n",
    "list=[\"Mango\",\"Banana\",\"Guava\",\"Papaya\"]\n",
    "print(\"Homogeneouse list\",list)\n",
    "\n",
    "# Heterogeneous set\n",
    "\n",
    "set={'mango',0,4,\"Papaya\",2.3}\n",
    "print(\"Heterogeneous set\",set)\n",
    "\n",
    "# Homogeneous tuple\n",
    "t=(8,6,3,6,2)\n",
    "print(\"Homogeneous tuple\",t)"
   ]
  },
  {
   "cell_type": "markdown",
   "id": "de4bfae7",
   "metadata": {},
   "source": [
    "### Q.8. Explain the mutable and immutable data types with proper explanation & examples."
   ]
  },
  {
   "cell_type": "markdown",
   "id": "2ae53c85",
   "metadata": {},
   "source": [
    "#### Answer:-\n",
    "\"Mutable\" in mutable data type we can change , update or modified after the data type has been created. example- List, dictionaries and sets\n",
    "\n",
    "\"immutable\" In immutable data type we can not change , update or modified after the data type after created. Example- int, float, string, frozen set, tuple etc"
   ]
  },
  {
   "cell_type": "code",
   "execution_count": 6,
   "id": "c1e6dfc3",
   "metadata": {},
   "outputs": [
    {
     "data": {
      "text/plain": [
       "[8, 2, 3, 'Papaya', 'apple']"
      ]
     },
     "execution_count": 6,
     "metadata": {},
     "output_type": "execute_result"
    }
   ],
   "source": [
    "# mutable data type like list\n",
    "list=[8,2,3,\"mango\",\"apple\"]\n",
    "list[3]=\"Papaya\"    # mango changed to papaya.\n",
    "list"
   ]
  },
  {
   "cell_type": "code",
   "execution_count": 7,
   "id": "5bfb552e",
   "metadata": {},
   "outputs": [
    {
     "ename": "TypeError",
     "evalue": "'tuple' object does not support item assignment",
     "output_type": "error",
     "traceback": [
      "\u001b[1;31m---------------------------------------------------------------------------\u001b[0m",
      "\u001b[1;31mTypeError\u001b[0m                                 Traceback (most recent call last)",
      "\u001b[1;32m~\\AppData\\Local\\Temp/ipykernel_7676/1334239880.py\u001b[0m in \u001b[0;36m<module>\u001b[1;34m\u001b[0m\n\u001b[0;32m      2\u001b[0m \u001b[1;33m\u001b[0m\u001b[0m\n\u001b[0;32m      3\u001b[0m \u001b[0mt1\u001b[0m\u001b[1;33m=\u001b[0m\u001b[1;33m(\u001b[0m\u001b[1;36m0\u001b[0m\u001b[1;33m,\u001b[0m\u001b[1;36m1\u001b[0m\u001b[1;33m,\u001b[0m\u001b[1;36m2\u001b[0m\u001b[1;33m,\u001b[0m\u001b[1;36m3\u001b[0m\u001b[1;33m,\u001b[0m\u001b[1;36m4\u001b[0m\u001b[1;33m,\u001b[0m\u001b[1;36m5\u001b[0m\u001b[1;33m)\u001b[0m\u001b[1;33m\u001b[0m\u001b[1;33m\u001b[0m\u001b[0m\n\u001b[1;32m----> 4\u001b[1;33m \u001b[0mt1\u001b[0m\u001b[1;33m[\u001b[0m\u001b[1;36m3\u001b[0m\u001b[1;33m]\u001b[0m\u001b[1;33m=\u001b[0m\u001b[1;34m'9'\u001b[0m  \u001b[1;31m## can not be changed\u001b[0m\u001b[1;33m\u001b[0m\u001b[1;33m\u001b[0m\u001b[0m\n\u001b[0m",
      "\u001b[1;31mTypeError\u001b[0m: 'tuple' object does not support item assignment"
     ]
    }
   ],
   "source": [
    "# immutable can not be modified\n",
    "\n",
    "t1=(0,1,2,3,4,5)\n",
    "t1[3]='9'  ## can not be changed"
   ]
  },
  {
   "cell_type": "markdown",
   "id": "7941b4cd",
   "metadata": {},
   "source": [
    "### Q.9. Write a code to create the given structure using only for loop."
   ]
  },
  {
   "cell_type": "code",
   "execution_count": 8,
   "id": "23aae01c",
   "metadata": {},
   "outputs": [
    {
     "name": "stdout",
     "output_type": "stream",
     "text": [
      "       * \r\n",
      "      * * \r\n",
      "     * * * \r\n",
      "    * * * * \r\n",
      "   * * * * * \r\n",
      "  * * * * * * \r\n",
      " * * * * * * * \r\n",
      "* * * * * * * * \r\n"
     ]
    }
   ],
   "source": [
    "\n",
    "def pyramid(n):\n",
    "     \n",
    "    # number of spaces\n",
    "    p = n - 1\n",
    " \n",
    "    # outer loop to handle number of rows\n",
    "    for i in range(0, n):\n",
    "     \n",
    "        # inner loop to handle number spaces\n",
    "        # value will changed accourding to requirement\n",
    "        for j in range(0, p):\n",
    "            print(end=\" \")\n",
    "     \n",
    "        # decrementing p after each loop\n",
    "        p = p - 1\n",
    "     \n",
    "        # inner loop to handle number of columns\n",
    "        # values changing accourding to outer loop\n",
    "        for j in range(0, i+1):\n",
    "         \n",
    "            # printing stars\n",
    "            print(\"* \", end=\"\")\n",
    "     \n",
    "        # ending line after each row\n",
    "        print(\"\\r\")\n",
    " \n",
    "\n",
    "n = 8\n",
    "pyramid(n)"
   ]
  },
  {
   "cell_type": "markdown",
   "id": "801c9ac3",
   "metadata": {},
   "source": [
    "### Q.10. Write a code to create the given structure using while loop."
   ]
  },
  {
   "cell_type": "code",
   "execution_count": 10,
   "id": "2036ec35",
   "metadata": {},
   "outputs": [
    {
     "name": "stdout",
     "output_type": "stream",
     "text": [
      "|||||||||||||||\r\n",
      "|||||||||||||\r\n",
      "|||||||||||\r\n",
      "|||||||||\r\n",
      "|||||||\r\n",
      "|||||\r\n",
      "|||\r\n",
      "|\r\n"
     ]
    }
   ],
   "source": [
    " n = 15\n",
    "\n",
    "\n",
    "\n",
    "for k in range(n, 0, -2):\n",
    "    \n",
    "    \n",
    "    for m in range(0,k):\n",
    "\n",
    "        print(\"|\", end='')\n",
    "        \n",
    "\n",
    "    print(\"\\r\")\n",
    "    "
   ]
  },
  {
   "cell_type": "code",
   "execution_count": null,
   "id": "a7c0450e",
   "metadata": {},
   "outputs": [],
   "source": []
  }
 ],
 "metadata": {
  "kernelspec": {
   "display_name": "Python 3 (ipykernel)",
   "language": "python",
   "name": "python3"
  },
  "language_info": {
   "codemirror_mode": {
    "name": "ipython",
    "version": 3
   },
   "file_extension": ".py",
   "mimetype": "text/x-python",
   "name": "python",
   "nbconvert_exporter": "python",
   "pygments_lexer": "ipython3",
   "version": "3.9.7"
  }
 },
 "nbformat": 4,
 "nbformat_minor": 5
}
