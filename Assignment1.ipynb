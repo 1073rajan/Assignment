{
 "cells": [
  {
   "cell_type": "markdown",
   "id": "201cd309",
   "metadata": {},
   "source": [
    "# Assignment-1"
   ]
  },
  {
   "cell_type": "markdown",
   "id": "1a68a70a",
   "metadata": {},
   "source": [
    "### 1. In the below elements which of them are values or an expression? eg:- values can be\n",
    "### integer or string and expressions will be mathematical operators."
   ]
  },
  {
   "cell_type": "markdown",
   "id": "a9176833",
   "metadata": {},
   "source": [
    "Ans:-\n",
    "    values:- 6 , -87.8 , 'hello'\n",
    "    expression:- * , - , / , +"
   ]
  },
  {
   "cell_type": "markdown",
   "id": "5d4d9ae1",
   "metadata": {},
   "source": [
    "### 2. What is the difference between string and variable?"
   ]
  },
  {
   "cell_type": "markdown",
   "id": "80187cb5",
   "metadata": {},
   "source": [
    "#### String:- String is a collection of characters. Anythings inside the single quotes, double quotes and triple quotes are considered as string in python."
   ]
  },
  {
   "cell_type": "code",
   "execution_count": 1,
   "id": "15811b64",
   "metadata": {},
   "outputs": [
    {
     "name": "stdout",
     "output_type": "stream",
     "text": [
      "Rajan\n",
      "Singh\n",
      "I am Rajan singh\n",
      "I want to be a DataScientist\n",
      "So that I can able to solve a complex problem\n",
      "\n"
     ]
    }
   ],
   "source": [
    "# Example\n",
    "str1='Rajan'\n",
    "str2=\"Singh\"\n",
    "\n",
    "str3=\"\"\"I am Rajan singh\n",
    "I want to be a DataScientist\n",
    "So that I can able to solve a complex problem\n",
    "\"\"\"\n",
    "print(str1)\n",
    "print(str2)\n",
    "print(str3)"
   ]
  },
  {
   "cell_type": "markdown",
   "id": "64a272cf",
   "metadata": {},
   "source": [
    "#### Variables:- Variables are reserved memory locations to store values. This means that when we create a variable we reserve some space in memory"
   ]
  },
  {
   "cell_type": "code",
   "execution_count": 2,
   "id": "b1269561",
   "metadata": {},
   "outputs": [
    {
     "name": "stdout",
     "output_type": "stream",
     "text": [
      "rajan\n",
      "1073\n"
     ]
    }
   ],
   "source": [
    "# Example:-\n",
    "var1=\"rajan\"\n",
    "var2=1073\n",
    "\n",
    "print(var1)\n",
    "print(var2)"
   ]
  },
  {
   "cell_type": "markdown",
   "id": "3f78e8d5",
   "metadata": {},
   "source": [
    "### 3. Describe three different data types."
   ]
  },
  {
   "cell_type": "markdown",
   "id": "eb1ef8c9",
   "metadata": {},
   "source": [
    "1. set:- Set is an unordered collection of data types that is iterable, mutable, and has no duplicate elements. The order of elements in a set is undefined though it may consist of various elements.\n",
    "\n",
    "2. Boolean:- Data type with one of the two built-in values, True or False. Boolean objects that are equal to True are truthy (true), and those equal to False are falsy (false). But non-Boolean objects can be evaluated in a Boolean context as well and determined to be true or false. It is denoted by the class bool.\n",
    "\n",
    "3. Dictonary:-A dictionary in Python is an unordered collection of data values, used to store data values like a map, unlike other Data Types that hold only a single value as an element, a Dictionary holds a key: value pair. Key-value is provided in the dictionary to make it more optimized. Each key-value pair in a Dictionary is separated by a colon : , whereas each key is separated by a ‘comma’.\n"
   ]
  },
  {
   "cell_type": "code",
   "execution_count": 3,
   "id": "2d04242e",
   "metadata": {},
   "outputs": [
    {
     "name": "stdout",
     "output_type": "stream",
     "text": [
      "('Rajan', 'kumar')\n",
      "(1, 5, 'Rajan', 'kumar', 'e')\n",
      "True\n",
      "False\n",
      "<class 'bool'>\n",
      "<class 'bool'>\n",
      "{'Name': 'Rajan Kumar', 'Age': 23, 'Roll no': 1073}\n",
      "<class 'dict'>\n"
     ]
    }
   ],
   "source": [
    "# Example:- sets\n",
    "set1=('Rajan','kumar')\n",
    "set2=(1,5,\"Rajan\",'kumar','e')\n",
    "print(set1)\n",
    "print(set2)\n",
    "\n",
    "# Boolean\n",
    "x= 1==1\n",
    "y= 3.05==3.0\n",
    "print(x)\n",
    "print(y)\n",
    "print(type(x))\n",
    "print(type(y))\n",
    "\n",
    "# Dictonary\n",
    "dict1={\"Name\":\"Rajan Kumar\",\n",
    "      \"Age\":23,\n",
    "      \"Roll no\":1073}\n",
    "print(dict1)\n",
    "print(type(dict1))\n"
   ]
  },
  {
   "cell_type": "markdown",
   "id": "193b36ed",
   "metadata": {},
   "source": [
    "### 4. What is an expression made up of? What do all expressions do?"
   ]
  },
  {
   "cell_type": "markdown",
   "id": "f0aedbce",
   "metadata": {},
   "source": [
    "An expression is a combination of operators and operands that is interpreted to produce some other value. An expression is evaluated as per the precedence of its operators. So that if there is more than one operator in an expression, their precedence decides which operation will be performed first. We have many different types of expressions in Python."
   ]
  },
  {
   "cell_type": "code",
   "execution_count": 4,
   "id": "6647a8aa",
   "metadata": {},
   "outputs": [
    {
     "name": "stdout",
     "output_type": "stream",
     "text": [
      "3.2\n",
      "5\n",
      "True\n"
     ]
    }
   ],
   "source": [
    "# Example of Expression\n",
    "x=2+1.2\n",
    "print(x)\n",
    "\n",
    "a=2\n",
    "b=3.5\n",
    "z=a+int(b)\n",
    "print(z)\n",
    "\n",
    "c=3\n",
    "d=4\n",
    "p=(a+b)>=(c-d)\n",
    "print(p)\n"
   ]
  },
  {
   "cell_type": "markdown",
   "id": "0f7bc4cc",
   "metadata": {},
   "source": [
    "### 5. This assignment statements, like spam = 10. What is the difference between an\n",
    "### expression and a statement?"
   ]
  },
  {
   "cell_type": "markdown",
   "id": "473e7311",
   "metadata": {},
   "source": [
    "Ans:- The Main Differences Between an Expression and a Statement in Programming. Expressions can be assigned or used as operands, while statements can only be declared.\n",
    "\n",
    "An expression evaluates to a single value. A statement does not."
   ]
  },
  {
   "cell_type": "markdown",
   "id": "539ee09c",
   "metadata": {},
   "source": [
    "### 6. After running the following code, what does the variable bacon contain?\n",
    "#### bacon = 22\n",
    "#### bacon + 1"
   ]
  },
  {
   "cell_type": "markdown",
   "id": "1179d335",
   "metadata": {},
   "source": [
    "Ans:-The bacon value will 22 reamian same  becouse we are assigning only 22. we can not add directly variable with values .if we want to add then we have to create another variables then we can add."
   ]
  },
  {
   "cell_type": "code",
   "execution_count": 5,
   "id": "ae5c1b94",
   "metadata": {},
   "outputs": [
    {
     "name": "stdout",
     "output_type": "stream",
     "text": [
      "22\n"
     ]
    }
   ],
   "source": [
    "bacon=22\n",
    "bacon+1\n",
    "\n",
    "print(bacon)"
   ]
  },
  {
   "cell_type": "markdown",
   "id": "b2ff873f",
   "metadata": {},
   "source": [
    "### 7. What should the values of the following two terms be?"
   ]
  },
  {
   "cell_type": "markdown",
   "id": "6a2bb3f1",
   "metadata": {},
   "source": [
    "### 'spam' + 'spamspam'\n",
    "### 'spam' * 3"
   ]
  },
  {
   "cell_type": "markdown",
   "id": "416a193e",
   "metadata": {},
   "source": [
    "#### ANS- Both expressions evaluate to the string 'spamspamspam'"
   ]
  },
  {
   "cell_type": "code",
   "execution_count": 6,
   "id": "84089a7a",
   "metadata": {},
   "outputs": [
    {
     "data": {
      "text/plain": [
       "'spamspamspam'"
      ]
     },
     "execution_count": 6,
     "metadata": {},
     "output_type": "execute_result"
    }
   ],
   "source": [
    "'spam' + 'spamspam'\n",
    "'spam' * 3"
   ]
  },
  {
   "cell_type": "markdown",
   "id": "c9f761f1",
   "metadata": {},
   "source": [
    "### 8. Why is eggs a valid variable name while 100 is invalid?"
   ]
  },
  {
   "cell_type": "markdown",
   "id": "945f7aeb",
   "metadata": {},
   "source": [
    "#### Ans:-  Because eggs are valid variable name it starts with alphabets.and 100 is invalid variable because it starts with digit. as we know that variable can not start with digit or any expression or white space."
   ]
  },
  {
   "cell_type": "code",
   "execution_count": 7,
   "id": "ad312fc3",
   "metadata": {},
   "outputs": [
    {
     "name": "stdout",
     "output_type": "stream",
     "text": [
      "eggs\n"
     ]
    }
   ],
   "source": [
    "eggs='eggs'\n",
    "print(eggs)"
   ]
  },
  {
   "cell_type": "markdown",
   "id": "7e767d19",
   "metadata": {},
   "source": [
    "### 9. What three functions can be used to get the integer, floating-point number, or string\n",
    "### version of a value?"
   ]
  },
  {
   "cell_type": "markdown",
   "id": "c583a031",
   "metadata": {},
   "source": [
    "#### Ans:-  integer= int()\n",
    "#### floating-point=float()\n",
    "#### string=str()"
   ]
  },
  {
   "cell_type": "markdown",
   "id": "37425954",
   "metadata": {},
   "source": [
    "### 10. Why does this expression cause an error? How can you fix it?"
   ]
  },
  {
   "cell_type": "code",
   "execution_count": 10,
   "id": "826905b0",
   "metadata": {},
   "outputs": [
    {
     "data": {
      "text/plain": [
       "'I have eaten 99 burritos.'"
      ]
     },
     "execution_count": 10,
     "metadata": {},
     "output_type": "execute_result"
    }
   ],
   "source": [
    "'I have eaten ' + str(99) + ' burritos.'"
   ]
  },
  {
   "cell_type": "code",
   "execution_count": null,
   "id": "81392f35",
   "metadata": {},
   "outputs": [],
   "source": []
  }
 ],
 "metadata": {
  "kernelspec": {
   "display_name": "Python 3 (ipykernel)",
   "language": "python",
   "name": "python3"
  },
  "language_info": {
   "codemirror_mode": {
    "name": "ipython",
    "version": 3
   },
   "file_extension": ".py",
   "mimetype": "text/x-python",
   "name": "python",
   "nbconvert_exporter": "python",
   "pygments_lexer": "ipython3",
   "version": "3.9.7"
  }
 },
 "nbformat": 4,
 "nbformat_minor": 5
}
