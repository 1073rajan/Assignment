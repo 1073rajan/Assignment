{
 "cells": [
  {
   "cell_type": "markdown",
   "id": "30c8d2fb",
   "metadata": {},
   "source": [
    "# Python Oops Assignment 1"
   ]
  },
  {
   "cell_type": "markdown",
   "id": "83621ecd",
   "metadata": {},
   "source": [
    "### 1. What is the primary goal of Object-Oriented Programming (OOP)?\n",
    "#### Answer:-"
   ]
  },
  {
   "cell_type": "markdown",
   "id": "984e36a2",
   "metadata": {},
   "source": [
    "object-oriented Programming (OOPs) is a programming paradigm that uses objects and classes in programming. It aims to implement real-world entities like inheritance, polymorphisms, encapsulation, etc. in the programming. The main concept of OOPs is to bind the data and the functions that work on that together as a single unit so that no other part of the code can access this data."
   ]
  },
  {
   "cell_type": "markdown",
   "id": "3ea380cf",
   "metadata": {},
   "source": [
    "### 2. What is an object in Python?\n",
    "#### Answer:-"
   ]
  },
  {
   "cell_type": "markdown",
   "id": "829fce3b",
   "metadata": {},
   "source": [
    "The object is an entity that has a state and behavior associated with it. It may be any real-world object like a mouse, keyboard, chair, table, pen, etc. Integers, strings, floating-point numbers, even arrays, and dictionaries, are all objects"
   ]
  },
  {
   "cell_type": "code",
   "execution_count": 1,
   "id": "6585e1ad",
   "metadata": {},
   "outputs": [
    {
     "name": "stdout",
     "output_type": "stream",
     "text": [
      "My name is Cat\n",
      "My name is Dog\n"
     ]
    }
   ],
   "source": [
    "class Animal:\n",
    " \n",
    "    # class attribute\n",
    "    attr1 = \"mammal\"\n",
    " \n",
    "    # Instance attribute\n",
    "    def __init__(self, name):\n",
    "        self.name = name\n",
    "        \n",
    "         \n",
    "    def speak(self):\n",
    "        \n",
    "        print('My name is',self.name)\n",
    " \n",
    "# Driver code\n",
    "# Object instantiation\n",
    "Cat = Animal(\"Cat\")\n",
    "Dog = Animal(\"Dog\")\n",
    " \n",
    "# Accessing class methods\n",
    "Cat.speak()\n",
    "Dog.speak()"
   ]
  },
  {
   "cell_type": "markdown",
   "id": "2b7305ec",
   "metadata": {},
   "source": [
    "### 3. What is a class in Python?\n",
    "#### Answer:-"
   ]
  },
  {
   "cell_type": "markdown",
   "id": "c76e1944",
   "metadata": {},
   "source": [
    "A class is a collection of objects. A class contains the blueprints or the prototype from which the objects are being created. It is a logical entity that contains some attributes and methods."
   ]
  },
  {
   "cell_type": "markdown",
   "id": "9e48cd71",
   "metadata": {},
   "source": [
    "### 4. What are attributes and methods in a class?\n",
    "#### Answer:-"
   ]
  },
  {
   "cell_type": "markdown",
   "id": "3e1f406d",
   "metadata": {},
   "source": [
    "Attributes:-\n",
    "Attributes are the variables that belong to a class.\n",
    "\n",
    "Methods:-\n",
    "method in object-oriented programming is a procedure associated with a class. A method defines the behavior of the objects that are created from the class"
   ]
  },
  {
   "cell_type": "markdown",
   "id": "5dc287aa",
   "metadata": {},
   "source": [
    "### 5. What is the difference between class variables and instance variables in Python?\n",
    "#### Answer:-"
   ]
  },
  {
   "cell_type": "markdown",
   "id": "14631f43",
   "metadata": {},
   "source": [
    "Class variables are useful for storing data that is shared among all instances of a class, such as constants or default values.\n",
    "\n",
    "Instance variables are used to store data that is unique to each instance of a class, such as object properties."
   ]
  },
  {
   "cell_type": "markdown",
   "id": "dbcad48e",
   "metadata": {},
   "source": [
    "### 6. What is the purpose of the self parameter in Python class methods?\n",
    "#### Answer:-"
   ]
  },
  {
   "cell_type": "markdown",
   "id": "d555f5c6",
   "metadata": {},
   "source": [
    "Self represents the instance of the class. By using the “self” we can access the attributes and methods of the class in Python. It binds the attributes with the given arguments."
   ]
  },
  {
   "cell_type": "code",
   "execution_count": 2,
   "id": "70cc08d3",
   "metadata": {},
   "outputs": [
    {
     "name": "stdout",
     "output_type": "stream",
     "text": [
      "87\n"
     ]
    }
   ],
   "source": [
    "class number:\n",
    "    def __init__(self, value):\n",
    "        self.value = value\n",
    "     \n",
    "    def print_value(self):\n",
    "        print(self.value)\n",
    " \n",
    "obj1 = number(87)\n",
    "obj1.print_value()"
   ]
  },
  {
   "cell_type": "markdown",
   "id": "2d4f4353",
   "metadata": {},
   "source": [
    "### 7. For a library management system, you have to design the \"Book\" class with OOP principles in mind. The “Book” class will have following attributes:"
   ]
  },
  {
   "cell_type": "markdown",
   "id": "d99251d6",
   "metadata": {},
   "source": [
    "a. title: Represents the title of the book.\n",
    "\n",
    "b. author: Represents the author(s) of the book.\n",
    "\n",
    "c. isbn: Represents the ISBN (International Standard Book Number) of the book.\n",
    "\n",
    "d. publication_year: Represents the year of publication of the book.\n",
    "\n",
    "e. available_copies: Represents the number of copies available for checkout."
   ]
  },
  {
   "cell_type": "markdown",
   "id": "df0fc88e",
   "metadata": {},
   "source": [
    "### The class will also include the following methods:"
   ]
  },
  {
   "cell_type": "markdown",
   "id": "29fac6fa",
   "metadata": {},
   "source": [
    "a. check_out(self): Decrements the available copies by one if there are copies available for checkout.\n",
    "\n",
    "b. return_book(self): Increments the available copies by one when a book is returned.\n",
    "\n",
    "c. display_book_info(self): Displays the information about the book, including its attributes and the number of available copies."
   ]
  },
  {
   "cell_type": "markdown",
   "id": "cc7d6ad3",
   "metadata": {},
   "source": [
    "#### ANSWER:-"
   ]
  },
  {
   "cell_type": "code",
   "execution_count": 3,
   "id": "51b496dd",
   "metadata": {},
   "outputs": [
    {
     "name": "stdout",
     "output_type": "stream",
     "text": [
      "information of book\n",
      "Title: HINDI \n",
      " AUTHOR :  BASANT \n",
      " ISBN :  10124 \n",
      " PUBLICATION YEAR :  2000 \n",
      " AVALIBLE COPY: 18\n",
      "After Check out Avalible book are 17\n",
      "After return Avalible book are 18\n"
     ]
    }
   ],
   "source": [
    " class Book:\n",
    "    def __init__(self,title,author,isbn,publication_year,avalible_copies):\n",
    "        self.title=title\n",
    "        self.author=author\n",
    "        self.isbn=isbn\n",
    "        self.publication_year=publication_year\n",
    "        self.avalible_copies=avalible_copies\n",
    "        \n",
    "        \n",
    "    def check_out(self):\n",
    "        if self.avalible_copies>0:\n",
    "            self.avalible_copies=self.avalible_copies-1\n",
    "            print(\"After Check out Avalible book are\",self.avalible_copies)\n",
    "        \n",
    "    def return_book(self):\n",
    "        self.avalible_copies=self.avalible_copies+1\n",
    "        print(\"After return Avalible book are\",self.avalible_copies)\n",
    "        \n",
    "    def display_book_info(self):\n",
    "        print(\"information of book\")\n",
    "        print(\"Title:\",self.title,\"\\n\",\"AUTHOR : \",self.author,\"\\n\",\"ISBN : \",self.isbn,\"\\n\",\"PUBLICATION YEAR : \",self.publication_year,\"\\n\",\"AVALIBLE COPY:\",self.avalible_copies)\n",
    "        \n",
    "\n",
    "book1=Book(\"HINDI\",\"BASANT\",10124,2000,18)\n",
    "book1.display_book_info()\n",
    "book1.check_out()\n",
    "book1.return_book()"
   ]
  },
  {
   "cell_type": "markdown",
   "id": "76d0a7ea",
   "metadata": {},
   "source": [
    "### 8. For a ticket booking system, you have to design the \"Ticket\" class with OOP principles in mind. The “Ticket” class should have the following attributes:"
   ]
  },
  {
   "cell_type": "markdown",
   "id": "204101f5",
   "metadata": {},
   "source": [
    "a. ticket_id: Represents the unique identifier for the ticket.\n",
    "\n",
    "b. event_name: Represents the name of the event.\n",
    "\n",
    "c. event_date: Represents the date of the event.\n",
    "\n",
    "d. venue: Represents the venue of the event.\n",
    "\n",
    "e. seat_number: Represents the seat number associated with the ticket.\n",
    "\n",
    "f. price: Represents the price of the ticket.\n",
    "\n",
    "g. is_reserved: Represents the reservation status of the ticket."
   ]
  },
  {
   "cell_type": "markdown",
   "id": "3357ca67",
   "metadata": {},
   "source": [
    "### The class also includes the following methods:"
   ]
  },
  {
   "cell_type": "markdown",
   "id": "890d83df",
   "metadata": {},
   "source": [
    "a. reserve_ticket(self): Marks the ticket as reserved if it is not already reserved.\n",
    "\n",
    "b. cancel_reservation(self): Cancels the reservation of the ticket if it is already reserved.\n",
    "\n",
    "c. display_ticket_info(self): Displays the information about the ticket, including its attributes and reservation status."
   ]
  },
  {
   "cell_type": "markdown",
   "id": "e8ae65b2",
   "metadata": {},
   "source": [
    "#### Answer:-"
   ]
  },
  {
   "cell_type": "code",
   "execution_count": 4,
   "id": "3d71eaec",
   "metadata": {},
   "outputs": [
    {
     "name": "stdout",
     "output_type": "stream",
     "text": [
      "Ticket_Id:  12628 \n",
      " EVENT NAME: Tatkal-2A \n",
      " EVENT DATE: 12/05/1024 \n",
      " VENUE: Banglore To Delhi \n",
      " SEAT NUMBER: B1-23 \n",
      " PRICE: 3500 \n",
      " Is Reserve: Yes\n"
     ]
    }
   ],
   "source": [
    "class Ticket:\n",
    "    def __init__(self,ticket_id,event_name,event_date,venue,seat_number,price,is_reserved):\n",
    "        self.ticket_id=ticket_id\n",
    "        self.event_name=event_name\n",
    "        self.event_date=event_date\n",
    "        self.venue=venue\n",
    "        self.price=price\n",
    "        self.seat_number=seat_number\n",
    "        self.is_reserved=is_reserved\n",
    "        \n",
    "    def reserve_ticket(self):\n",
    "        if self.is_reserved==\"No\":\n",
    "            self.is_reserved=\"Yes\"\n",
    "            print(\"Ticket Booked\")\n",
    "        print(\"Status CNF\")\n",
    "        \n",
    "            \n",
    "            \n",
    "    def cancel_reservation(self):\n",
    "        if self.is_reserved==\"Yes\":\n",
    "            self.is_reserved=\"No\"\n",
    "            print(\"Ticket Cancel\")\n",
    "            \n",
    "    def display_ticket_info(self):\n",
    "        print(\"Ticket_Id: \",self.ticket_id,\"\\n\",\"EVENT NAME:\" ,self.event_name,\"\\n\",\n",
    "              \"EVENT DATE:\",self.event_date,\"\\n\",\"VENUE:\",self.venue,\"\\n\",\"SEAT NUMBER:\",self.seat_number,\n",
    "              \"\\n\",\"PRICE:\",self.price,\"\\n\",\"Is Reserve:\",self.is_reserved)\n",
    "        \n",
    "            \n",
    "        \n",
    "        \n",
    "\n",
    "\n",
    "Ticket1=Ticket(\"12628\",\"Tatkal-2A\",\"12/05/1024\",\"Banglore To Delhi\",\"B1-23\",\"3500\",\"Yes\")\n",
    "Ticket2=Ticket(\"12628\",\"Tatkal-2A\",\"12/05/1024\",\"Banglore To Delhi\",\"B2-65\",\"3500\",\"No\")\n",
    "Ticket1.display_ticket_info()\n"
   ]
  },
  {
   "cell_type": "code",
   "execution_count": 5,
   "id": "bbcd37d7",
   "metadata": {},
   "outputs": [
    {
     "name": "stdout",
     "output_type": "stream",
     "text": [
      "Ticket_Id:  12628 \n",
      " EVENT NAME: Tatkal-2A \n",
      " EVENT DATE: 12/05/1024 \n",
      " VENUE: Banglore To Delhi \n",
      " SEAT NUMBER: B2-65 \n",
      " PRICE: 3500 \n",
      " Is Reserve: No\n"
     ]
    }
   ],
   "source": [
    "Ticket2.display_ticket_info()"
   ]
  },
  {
   "cell_type": "code",
   "execution_count": 6,
   "id": "3e453842",
   "metadata": {},
   "outputs": [
    {
     "name": "stdout",
     "output_type": "stream",
     "text": [
      "Ticket Booked\n",
      "Status CNF\n"
     ]
    }
   ],
   "source": [
    "Ticket2.reserve_ticket()"
   ]
  },
  {
   "cell_type": "code",
   "execution_count": 7,
   "id": "55150e9e",
   "metadata": {},
   "outputs": [
    {
     "name": "stdout",
     "output_type": "stream",
     "text": [
      "Ticket Cancel\n"
     ]
    }
   ],
   "source": [
    "Ticket1.cancel_reservation()"
   ]
  },
  {
   "cell_type": "code",
   "execution_count": 8,
   "id": "a0ad38da",
   "metadata": {},
   "outputs": [
    {
     "name": "stdout",
     "output_type": "stream",
     "text": [
      "Ticket_Id:  12628 \n",
      " EVENT NAME: Tatkal-2A \n",
      " EVENT DATE: 12/05/1024 \n",
      " VENUE: Banglore To Delhi \n",
      " SEAT NUMBER: B1-23 \n",
      " PRICE: 3500 \n",
      " Is Reserve: No\n"
     ]
    }
   ],
   "source": [
    "Ticket1.display_ticket_info()"
   ]
  },
  {
   "cell_type": "markdown",
   "id": "05fbeb40",
   "metadata": {},
   "source": [
    "### 9. You are creating a shopping cart for an e-commerce website. Using OOP to modelthe \"ShoppingCart\" functionality the class should contain following attributes and methods:"
   ]
  },
  {
   "cell_type": "markdown",
   "id": "518d284f",
   "metadata": {},
   "source": [
    "a. items: Represents the list of items in the shopping cart. The class also includes the following methods:\n",
    "\n",
    "a. add_item(self, item): Adds an item to the shopping cart by appending it to the list of items.\n",
    "\n",
    "b. remove_item(self, item): Removes an item from the shopping cart if it exists in the list.\n",
    "\n",
    "c. view_cart(self): Displays the items currently present in the shopping cart.\n",
    "\n",
    "d. clear_cart(self): Clears all items from the shopping cart by reassigning an empty list to the items attribute."
   ]
  },
  {
   "cell_type": "markdown",
   "id": "37b7bc64",
   "metadata": {},
   "source": [
    "#### Answer:-"
   ]
  },
  {
   "cell_type": "code",
   "execution_count": 9,
   "id": "32423d22",
   "metadata": {},
   "outputs": [],
   "source": [
    "class ShoppingCart:\n",
    "    \n",
    "    items=[]\n",
    "    \n",
    "    @classmethod\n",
    "    def add_item(self, item):\n",
    "        self.items.append(item)\n",
    "        \n",
    "    def remove_item(self, item):\n",
    "        self.items.remove(item)\n",
    "        \n",
    "    def view_cart(self):\n",
    "        print(self.items)\n",
    "        \n",
    "    def clear_cart(self):\n",
    "        self.items.clear()\n",
    "    \n",
    "    \n",
    "cart1=ShoppingCart()"
   ]
  },
  {
   "cell_type": "code",
   "execution_count": 10,
   "id": "7029776e",
   "metadata": {},
   "outputs": [],
   "source": [
    "cart1.add_item(\"cloth\")"
   ]
  },
  {
   "cell_type": "code",
   "execution_count": 11,
   "id": "8ef88281",
   "metadata": {},
   "outputs": [],
   "source": [
    "cart1.add_item(\"food\")\n",
    "cart1.add_item(\"Travelling\")\n",
    "cart1.add_item(\"Movies\")"
   ]
  },
  {
   "cell_type": "code",
   "execution_count": 12,
   "id": "ae5bd03a",
   "metadata": {},
   "outputs": [
    {
     "data": {
      "text/plain": [
       "['cloth', 'food', 'Travelling', 'Movies']"
      ]
     },
     "execution_count": 12,
     "metadata": {},
     "output_type": "execute_result"
    }
   ],
   "source": [
    "cart1.items"
   ]
  },
  {
   "cell_type": "code",
   "execution_count": 13,
   "id": "0a98d2d4",
   "metadata": {},
   "outputs": [],
   "source": [
    "cart1.remove_item(\"Travelling\")"
   ]
  },
  {
   "cell_type": "code",
   "execution_count": 14,
   "id": "56ea3f2b",
   "metadata": {},
   "outputs": [
    {
     "name": "stdout",
     "output_type": "stream",
     "text": [
      "['cloth', 'food', 'Movies']\n"
     ]
    }
   ],
   "source": [
    "cart1.view_cart()"
   ]
  },
  {
   "cell_type": "code",
   "execution_count": 15,
   "id": "afcc51be",
   "metadata": {},
   "outputs": [],
   "source": [
    "cart1.clear_cart()"
   ]
  },
  {
   "cell_type": "code",
   "execution_count": 16,
   "id": "4c50f6e4",
   "metadata": {},
   "outputs": [
    {
     "name": "stdout",
     "output_type": "stream",
     "text": [
      "[]\n"
     ]
    }
   ],
   "source": [
    "cart1.view_cart()"
   ]
  },
  {
   "cell_type": "markdown",
   "id": "10199eae",
   "metadata": {},
   "source": [
    "### 10. Imagine a school management system. You have to design the \"Student\" class using OOP concepts.The “Student” class has the following attributes:"
   ]
  },
  {
   "cell_type": "markdown",
   "id": "78b865df",
   "metadata": {},
   "source": [
    "a. name: Represents the name of the student.\n",
    "\n",
    "b. age: Represents the age of the student.\n",
    "\n",
    "c. grade: Represents the grade or class of the student.\n",
    "\n",
    "d. student_id: Represents the unique identifier for the student.\n",
    "\n",
    "e. attendance: Represents the attendance record of the student."
   ]
  },
  {
   "cell_type": "markdown",
   "id": "6123f609",
   "metadata": {},
   "source": [
    "### The class should also include the following methods:"
   ]
  },
  {
   "cell_type": "markdown",
   "id": "461d4a27",
   "metadata": {},
   "source": [
    "a. update_attendance(self, date, status): Updates the attendance record of the student for a given date with the provided status (e.g., present or absent).\n",
    "\n",
    "b. get_attendance(self): Returns the attendance record of the student.\n",
    "\n",
    "c. get_average_attendance(self): Calculates and returns the average attendance percentage of the student based on their attendance record."
   ]
  },
  {
   "cell_type": "markdown",
   "id": "e190cfeb",
   "metadata": {},
   "source": [
    "#### Answer:-"
   ]
  },
  {
   "cell_type": "code",
   "execution_count": 17,
   "id": "1c21f0f6",
   "metadata": {},
   "outputs": [],
   "source": [
    "class Student:\n",
    "    Attendance_record={}\n",
    "    Date=[]\n",
    "    Status=[]\n",
    "    count_present=0\n",
    "    count_absent=0\n",
    "    def __init__(self,name,age,grade,student_id):\n",
    "        self.name=name\n",
    "        self.age=age\n",
    "        self.grade=grade\n",
    "        self.student_id=student_id\n",
    "\n",
    "        ## sir for mapping attendance_record we have to give date as well as attendance other wise it will create problem so  \n",
    "        # we can remove attendance\n",
    "\n",
    "\n",
    "    def update_attendance(self, date, status):\n",
    "        if status.capitalize() == \"P\":\n",
    "            self.count_present=self.count_present+1   \n",
    "        self.count_absent=self.count_absent+1\n",
    "        \n",
    "        self.Date.append(date)\n",
    "        self.Status.append(status)\n",
    "        for Date,Status in zip(date,status):\n",
    "            self.Attendance_record[date]=status\n",
    "\n",
    "\n",
    "        \n",
    "        \n",
    "    def get_attendance(self):\n",
    "\n",
    "        print(\"Attendance:\",self.Attendance_record)\n",
    "        \n",
    "        \n",
    "    def get_average_attendance(self):\n",
    "        total_day=self.count_present+self.count_absent\n",
    "        average=(self.count_present / total_day)*100\n",
    "        print(\"Average\",average)"
   ]
  },
  {
   "cell_type": "code",
   "execution_count": 18,
   "id": "1085206d",
   "metadata": {},
   "outputs": [],
   "source": [
    "student1=Student(\"Rajan Kumar\",\"24\",\"b\",\"191121101073\")"
   ]
  },
  {
   "cell_type": "code",
   "execution_count": 19,
   "id": "0a0d6f6c",
   "metadata": {},
   "outputs": [],
   "source": [
    "student1.update_attendance(\"11/05/2023\",\"P\") \n",
    "student1.update_attendance(\"12/05/2023\",\"P\") \n",
    "student1.update_attendance(\"13/05/2023\",\"A\") \n",
    "student1.update_attendance(\"14/05/2023\",\"P\") "
   ]
  },
  {
   "cell_type": "code",
   "execution_count": 20,
   "id": "81937c82",
   "metadata": {},
   "outputs": [
    {
     "name": "stdout",
     "output_type": "stream",
     "text": [
      "Attendance: {'11/05/2023': 'P', '12/05/2023': 'P', '13/05/2023': 'A', '14/05/2023': 'P'}\n"
     ]
    }
   ],
   "source": [
    "student1.get_attendance()"
   ]
  },
  {
   "cell_type": "code",
   "execution_count": 21,
   "id": "bcd3091b",
   "metadata": {},
   "outputs": [
    {
     "name": "stdout",
     "output_type": "stream",
     "text": [
      "Average 42.857142857142854\n"
     ]
    }
   ],
   "source": [
    "student1.get_average_attendance()"
   ]
  },
  {
   "cell_type": "code",
   "execution_count": null,
   "id": "9fde60e0",
   "metadata": {},
   "outputs": [],
   "source": []
  }
 ],
 "metadata": {
  "kernelspec": {
   "display_name": "Python 3 (ipykernel)",
   "language": "python",
   "name": "python3"
  },
  "language_info": {
   "codemirror_mode": {
    "name": "ipython",
    "version": 3
   },
   "file_extension": ".py",
   "mimetype": "text/x-python",
   "name": "python",
   "nbconvert_exporter": "python",
   "pygments_lexer": "ipython3",
   "version": "3.9.7"
  }
 },
 "nbformat": 4,
 "nbformat_minor": 5
}
