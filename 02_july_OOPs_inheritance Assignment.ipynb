{
 "cells": [
  {
   "cell_type": "markdown",
   "id": "d7f00f97",
   "metadata": {},
   "source": [
    "### 1. Explain what inheritance is in object-oriented programming and why it is used."
   ]
  },
  {
   "cell_type": "markdown",
   "id": "7727657e",
   "metadata": {},
   "source": [
    "#### Answer:-"
   ]
  },
  {
   "cell_type": "markdown",
   "id": "a30277d3",
   "metadata": {},
   "source": [
    "Inheritance is one of the core features of object-oriented programming. It's a programming procedure that allows you to reuse code by referencing the behaviors and data of an object. In other words, a class that inherits from another class shares all the attributes and methods of the referenced class."
   ]
  },
  {
   "cell_type": "code",
   "execution_count": 1,
   "id": "2c9bccbb",
   "metadata": {},
   "outputs": [],
   "source": [
    "# Example program:-\n",
    "class Person:\n",
    "    def __init__(self,name):\n",
    "        self.name=name\n",
    "        \n",
    "    def display_info(self):\n",
    "        print(f\"Name is : {self.name}\")\n",
    "        \n",
    "class Student(Person):\n",
    "    def __init__(self,name,grade):\n",
    "        super().__init__(name)   # super use for it is refering to the parrent drived class\n",
    "        self.grade=grade\n",
    "        \n",
    "        \n",
    "    def display_info(self):\n",
    "        super().display_info()\n",
    "        print(f\"grade is : {self.grade}\")"
   ]
  },
  {
   "cell_type": "code",
   "execution_count": 2,
   "id": "56761dc0",
   "metadata": {},
   "outputs": [
    {
     "name": "stdout",
     "output_type": "stream",
     "text": [
      "Name is : RAJAN\n",
      "grade is : B\n"
     ]
    }
   ],
   "source": [
    "Student1=Student(\"RAJAN\",\"B\")\n",
    "Student1.display_info()"
   ]
  },
  {
   "cell_type": "markdown",
   "id": "bce29d83",
   "metadata": {},
   "source": [
    "### 2. Discuss the concept of single inheritance and multiple inheritance, highlighting their differences and advantages."
   ]
  },
  {
   "cell_type": "markdown",
   "id": "9a1488f4",
   "metadata": {},
   "source": [
    "#### Answer:-"
   ]
  },
  {
   "cell_type": "markdown",
   "id": "5ce075d5",
   "metadata": {},
   "source": [
    "Single inheritance enables a derived class to inherit properties from a single parent class, thus enabling code reusability and the addition of new features to existing code."
   ]
  },
  {
   "cell_type": "code",
   "execution_count": 3,
   "id": "4254d1b0",
   "metadata": {},
   "outputs": [
    {
     "name": "stdout",
     "output_type": "stream",
     "text": [
      "This function is in parent class.\n",
      "This function is in child class.\n"
     ]
    }
   ],
   "source": [
    "# Example Program:-\n",
    "# single inheritance\n",
    "\n",
    "# Base class\n",
    "class Parent:\n",
    "    def func1(self):\n",
    "        print(\"This function is in parent class.\")\n",
    "\n",
    "# Derived class\n",
    "\n",
    "\n",
    "class Child(Parent):\n",
    "    def func2(self):\n",
    "        print(\"This function is in child class.\")\n",
    "\n",
    "\n",
    "# Driver's code\n",
    "object = Child()\n",
    "object.func1()\n",
    "object.func2()"
   ]
  },
  {
   "cell_type": "markdown",
   "id": "024e68cf",
   "metadata": {},
   "source": [
    "multiple inheritances When a class can be derived from more than one base class this type of inheritance is called multiple inheritances. In multiple inheritances, all the features of the base classes are inherited into the derived class."
   ]
  },
  {
   "cell_type": "code",
   "execution_count": 4,
   "id": "33d1e47c",
   "metadata": {},
   "outputs": [],
   "source": [
    "# Example Program:-\n",
    "class Person:\n",
    "    def __init__(self,name):\n",
    "        self.name=name\n",
    "        \n",
    "    def display_info(self):\n",
    "        print(f\"Name is : {self.name}\")\n",
    "        \n",
    "class Student(Person):\n",
    "    def __init__(self,name,grade):\n",
    "        super().__init__(name)   \n",
    "        self.grade=grade\n",
    "        \n",
    "        \n",
    "    def display_info(self):\n",
    "        super().display_info()\n",
    "        print(f\"grade is : {self.grade}\")\n",
    "class Teacher(Person):\n",
    "    def __init__(self,name,subject):\n",
    "        super().__init__(name)   \n",
    "        self.subject=subject\n",
    "    \n",
    "        \n",
    "        \n",
    "    def display_info(self):\n",
    "        super().display_info()\n",
    "        print(f\"subject is : {self.subject}\")"
   ]
  },
  {
   "cell_type": "code",
   "execution_count": 5,
   "id": "b77d543d",
   "metadata": {},
   "outputs": [
    {
     "name": "stdout",
     "output_type": "stream",
     "text": [
      "Name is : RAJAN\n",
      "subject is : DATASCIENCE\n"
     ]
    }
   ],
   "source": [
    "teacher1=Teacher(\"RAJAN\",\"DATASCIENCE\")\n",
    "teacher1.display_info()"
   ]
  },
  {
   "cell_type": "markdown",
   "id": "d113a578",
   "metadata": {},
   "source": [
    "### 3. Explain the terms \"base class\" and \"derived class\" in the context of inheritance."
   ]
  },
  {
   "cell_type": "markdown",
   "id": "f2a3f0e9",
   "metadata": {},
   "source": [
    "#### Answer:-"
   ]
  },
  {
   "cell_type": "markdown",
   "id": "37638b4d",
   "metadata": {},
   "source": [
    "Base class is an existing class from which the other classes are determined and properties are inherited. It is also known as a superclass or parent class."
   ]
  },
  {
   "cell_type": "code",
   "execution_count": 6,
   "id": "2a864a4d",
   "metadata": {},
   "outputs": [],
   "source": [
    "# Base class\n",
    "class Parent:\n",
    "    def func1(self):\n",
    "        print(\"This function is in parent class.\")"
   ]
  },
  {
   "cell_type": "markdown",
   "id": "481c2c05",
   "metadata": {},
   "source": [
    "Child class is the class that inherits from another class, also called derived class."
   ]
  },
  {
   "cell_type": "code",
   "execution_count": 7,
   "id": "5afa0aec",
   "metadata": {},
   "outputs": [
    {
     "name": "stdout",
     "output_type": "stream",
     "text": [
      "This function is in parent class.\n",
      "This function is in child class.\n"
     ]
    }
   ],
   "source": [
    "# Derived class\n",
    "\n",
    "\n",
    "class Child(Parent):\n",
    "    def func2(self):\n",
    "        print(\"This function is in child class.\")\n",
    "        \n",
    "\n",
    "# Driver's code\n",
    "object = Child()\n",
    "object.func1()\n",
    "object.func2()"
   ]
  },
  {
   "cell_type": "markdown",
   "id": "aac45a67",
   "metadata": {},
   "source": [
    "### 4. What is the significance of the \"protected\" access modifier in inheritance? How does it differ from \"private\" and \"public\" modifiers?"
   ]
  },
  {
   "cell_type": "markdown",
   "id": "a891a444",
   "metadata": {},
   "source": [
    "#### Answer:-"
   ]
  },
  {
   "cell_type": "markdown",
   "id": "e9eb45b8",
   "metadata": {},
   "source": [
    "**Protected access modifier** It is a keyword. This access modifier is used to access the methods or data members of a class within the same package as well as outside the package but only through inheritance\n",
    "\n",
    "The protected access modifier has more accessibility than private and defaults access modifier\n",
    "\n",
    "public vs protected vs private\n",
    "\n",
    "public - members are accessible from outside the class.\n",
    "\n",
    "private - members cannot be accessed (or viewed) from outside the class.\n",
    "\n",
    "protected - members cannot be accessed from outside the class, however, they can be accessed in inherited classes."
   ]
  },
  {
   "cell_type": "markdown",
   "id": "003c7afa",
   "metadata": {},
   "source": [
    "### 5. What is the purpose of the \"super\" keyword in inheritance? Provide an example."
   ]
  },
  {
   "cell_type": "markdown",
   "id": "c1b81e3b",
   "metadata": {},
   "source": [
    "#### Answer:-"
   ]
  },
  {
   "cell_type": "markdown",
   "id": "4778ae32",
   "metadata": {},
   "source": [
    "The super() function is a built-in function that returns the objects that represent the parent class. It allows to access the parent class’s methods and attributes in the child class."
   ]
  },
  {
   "cell_type": "code",
   "execution_count": 8,
   "id": "18553820",
   "metadata": {},
   "outputs": [],
   "source": [
    "class Person:\n",
    "    def __init__(self,name):\n",
    "        self.name=name\n",
    "        \n",
    "    def display_info(self):\n",
    "        print(f\"Name is : {self.name}\")\n",
    "        \n",
    "class Student(Person):\n",
    "    def __init__(self,name,grade):\n",
    "        super().__init__(name)   \n",
    "        self.grade=grade\n",
    "        \n",
    "        \n",
    "    def display_info(self):\n",
    "        super().display_info()\n",
    "        print(f\"grade is : {self.grade}\")\n",
    "class Teacher(Person):\n",
    "    def __init__(self,name,subject):\n",
    "        super().__init__(name)   \n",
    "        self.subject=subject\n",
    "    \n",
    "        \n",
    "        \n",
    "    def display_info(self):\n",
    "        super().display_info()\n",
    "        print(f\"subject is : {self.subject}\")"
   ]
  },
  {
   "cell_type": "code",
   "execution_count": 9,
   "id": "91f00e17",
   "metadata": {},
   "outputs": [
    {
     "name": "stdout",
     "output_type": "stream",
     "text": [
      "Name is : RAJAN KUMAR\n",
      "grade is : B\n"
     ]
    }
   ],
   "source": [
    "Student1=Student(\"RAJAN KUMAR\",\"B\")\n",
    "Student1.display_info()"
   ]
  },
  {
   "cell_type": "markdown",
   "id": "6fa23356",
   "metadata": {},
   "source": [
    "### 6. Create a base class called \"Vehicle\" with attributes like \"make\", \"model\", and \"year\".Then, create a derived class called \"Car\" that inherits from \"Vehicle\" and adds an attribute called \"fuel_type\". Implement appropriate methods in both classes."
   ]
  },
  {
   "cell_type": "markdown",
   "id": "a658ed3e",
   "metadata": {},
   "source": [
    "#### Answer:-"
   ]
  },
  {
   "cell_type": "code",
   "execution_count": 10,
   "id": "ef69caca",
   "metadata": {},
   "outputs": [],
   "source": [
    "class Vehicle:\n",
    "    def __init__(self,make,model,year):\n",
    "        self.make=make\n",
    "        self.model=model\n",
    "        self.year=year\n",
    "    def display_info(self):\n",
    "        print(\"Make\",self.make)\n",
    "        print(\"Model\",self.model)\n",
    "        print(\"year\",self.year)\n",
    "        \n",
    "        \n",
    "class Car(Vehicle):\n",
    "    def __init__(self,make,model,year,fuel_type):\n",
    "        super().__init__(make,model,year)\n",
    "\n",
    "        self.fuel_type=fuel_type\n",
    "        \n",
    "    def display_info(self):\n",
    "        super().display_info()\n",
    "        print(\"Fuel_Type\",self.fuel_type)"
   ]
  },
  {
   "cell_type": "code",
   "execution_count": 11,
   "id": "103e0604",
   "metadata": {},
   "outputs": [
    {
     "name": "stdout",
     "output_type": "stream",
     "text": [
      "Make TATA\n",
      "Model 10-T\n",
      "year 2023\n"
     ]
    }
   ],
   "source": [
    "car1=Vehicle(\"TATA\",\"10-T\",\"2023\")\n",
    "car1.display_info()"
   ]
  },
  {
   "cell_type": "code",
   "execution_count": 12,
   "id": "1eba6ba1",
   "metadata": {},
   "outputs": [
    {
     "name": "stdout",
     "output_type": "stream",
     "text": [
      "Make BMW\n",
      "Model m3\n",
      "year 2023\n",
      "Fuel_Type 10L\n"
     ]
    }
   ],
   "source": [
    "car1=Car(\"BMW\",\"m3\",\"2023\",\"10L\")\n",
    "car1.display_info()"
   ]
  },
  {
   "cell_type": "markdown",
   "id": "9bc37476",
   "metadata": {},
   "source": [
    "### 7. Create a base class called \"Employee\" with attributes like \"name\" and \"salary.\" Derive two classes, \"Manager\" and \"Developer,\" from \"Employee.\" Add an additional attribute called \"department\" for the \"Manager\" class and \"programming_language\" for the \"Developer\" class."
   ]
  },
  {
   "cell_type": "markdown",
   "id": "d8af9576",
   "metadata": {},
   "source": [
    "#### Answer:-"
   ]
  },
  {
   "cell_type": "code",
   "execution_count": 13,
   "id": "5aab9d56",
   "metadata": {},
   "outputs": [],
   "source": [
    "class Employee:\n",
    "    def __init__(self,name,salary):\n",
    "        self.name=name\n",
    "        self.salary=salary\n",
    "    def display_details(self):\n",
    "        print(\"Employee Name : \", self.name)\n",
    "        print(\"Employee Name : \", self.salary)\n",
    "        \n",
    "class Manager(Employee):\n",
    "    def __init__(self,name,salary,department):\n",
    "        super().__init__(name,salary)\n",
    "        self.department=department\n",
    "\n",
    "    def display_details(self): \n",
    "        super().display_details()\n",
    "        print(\"Department : \",self.department)\n",
    "        \n",
    "class Developer(Employee):\n",
    "    def __init__(self,name,salary,programming_language):\n",
    "        super().__init__(name,salary)\n",
    "        self.programming_language=programming_language\n",
    "        \n",
    "    def display_details(self): \n",
    "        super().display_details()\n",
    "        print(\"programming_language : \",self.programming_language)"
   ]
  },
  {
   "cell_type": "code",
   "execution_count": 14,
   "id": "dde6ed54",
   "metadata": {},
   "outputs": [
    {
     "name": "stdout",
     "output_type": "stream",
     "text": [
      "Employee Name :  Dahlia\n",
      "Employee Name :  45000\n"
     ]
    }
   ],
   "source": [
    "Employee1=Employee(\"Dahlia\",45000)\n",
    "Employee1.display_details()"
   ]
  },
  {
   "cell_type": "code",
   "execution_count": 15,
   "id": "f2eaa3f7",
   "metadata": {},
   "outputs": [
    {
     "name": "stdout",
     "output_type": "stream",
     "text": [
      "Employee Name :  Rajan \n",
      "Employee Name :  1200000\n",
      "Department :  IT\n"
     ]
    }
   ],
   "source": [
    "Manager1=Manager(\"Rajan \",1200000,\"IT\")\n",
    "\n",
    "Manager1.display_details()"
   ]
  },
  {
   "cell_type": "code",
   "execution_count": 16,
   "id": "7a876ed4",
   "metadata": {},
   "outputs": [
    {
     "name": "stdout",
     "output_type": "stream",
     "text": [
      "Employee Name :  Nitish\n",
      "Employee Name :  1300000\n",
      "programming_language :  Data Analyst\n"
     ]
    }
   ],
   "source": [
    "Developer1=Developer(\"Nitish\",\"1300000\",\"Data Analyst\")\n",
    "Developer1.display_details()"
   ]
  },
  {
   "cell_type": "markdown",
   "id": "38cffa52",
   "metadata": {},
   "source": [
    "### 8. Design a base class called \"Shape\" with attributes like \"colour\" and \"border_width.\" Create derived classes, \"Rectangle\" and \"Circle,\" that inherit from \"Shape\" and add specific attributes like \"length\" and \"width\" for the \"Rectangle\" class and \"radius\" for the \"Circle\" class."
   ]
  },
  {
   "cell_type": "markdown",
   "id": "ff062277",
   "metadata": {},
   "source": [
    "#### Answer:-"
   ]
  },
  {
   "cell_type": "code",
   "execution_count": 17,
   "id": "02da8475",
   "metadata": {},
   "outputs": [],
   "source": [
    "class Shape:\n",
    "    def __init__(self,colour,border_width):\n",
    "        self.colour=colour\n",
    "        self.border_width=border_width\n",
    "        \n",
    "    def display_info(self):\n",
    "        print(\"colour : \",self.colour)\n",
    "        print(\"border_width : \",self.border_width)\n",
    "        \n",
    "    \n",
    "class Rectangle(Shape):\n",
    "    def __init__(self,colour,length,width,border_width):\n",
    "        super().__init__(colour,border_width)\n",
    "        self.length=length\n",
    "        self.width=width\n",
    "        \n",
    "    def display_info(self):\n",
    "        super().display_info()\n",
    "        print(\"Length of Rectangle : \",self.length)\n",
    "        print(\"Width of Rectangle : \",self.width)\n",
    "                \n",
    "        \n",
    "    \n",
    "class Circle(Shape):\n",
    "    def __init__(self,colour,radius,border_width):\n",
    "        super().__init__(colour,border_width)\n",
    "        self.radius=radius\n",
    "        \n",
    "    def display_info(self):\n",
    "        super().display_info()\n",
    "        print(\"Radius : \",self.radius)"
   ]
  },
  {
   "cell_type": "code",
   "execution_count": 18,
   "id": "e5c55351",
   "metadata": {},
   "outputs": [
    {
     "name": "stdout",
     "output_type": "stream",
     "text": [
      "colour :  Yellow\n",
      "border_width :  10 CM\n"
     ]
    }
   ],
   "source": [
    "Shape1=Shape(\"Yellow\",\"10 CM\")\n",
    "Shape1.display_info()"
   ]
  },
  {
   "cell_type": "code",
   "execution_count": 19,
   "id": "2a872118",
   "metadata": {},
   "outputs": [
    {
     "name": "stdout",
     "output_type": "stream",
     "text": [
      "colour :  red\n",
      "border_width :  1CM\n",
      "Length of Rectangle :  12 CM\n",
      "Width of Rectangle :  5\n"
     ]
    }
   ],
   "source": [
    "R1=Rectangle(\"red\",\"12 CM\",\"5\",\"1CM\")\n",
    "R1.display_info()"
   ]
  },
  {
   "cell_type": "code",
   "execution_count": 20,
   "id": "015660a2",
   "metadata": {},
   "outputs": [
    {
     "name": "stdout",
     "output_type": "stream",
     "text": [
      "colour :  Black\n",
      "border_width :  1CM\n",
      "Radius :  6\n"
     ]
    }
   ],
   "source": [
    "C1=Circle(\"Black\",\"6\",\"1CM\")\n",
    "C1.display_info()"
   ]
  },
  {
   "cell_type": "markdown",
   "id": "00faebef",
   "metadata": {},
   "source": [
    "### 9. Create a base class called \"Device\" with attributes like \"brand\" and \"model.\" Derive two classes, \"Phone\" and \"Tablet,\" from \"Device.\" Add specific attributes like \"screen_size\" for the \"Phone\" class and \"battery_capacity\" for the \"Tablet\" class."
   ]
  },
  {
   "cell_type": "markdown",
   "id": "5646a47d",
   "metadata": {},
   "source": [
    "#### Answer:-"
   ]
  },
  {
   "cell_type": "code",
   "execution_count": 21,
   "id": "70820796",
   "metadata": {},
   "outputs": [],
   "source": [
    "class Device:\n",
    "    def __init__(self,brand,model):\n",
    "        self.brand= brand\n",
    "        self.model=model\n",
    "        \n",
    "    def display_info(self):\n",
    "        print(\"Brand : \",self.brand)\n",
    "        print(\"Model : \",self.model)\n",
    "        \n",
    "        \n",
    "class Phone(Device):\n",
    "    def __init__(self,brand,model,screen_size):\n",
    "        super().__init__(brand,model)\n",
    "        self.screen_size=screen_size\n",
    "        \n",
    "        \n",
    "    def display_info(self):\n",
    "        super().display_info()\n",
    "        print(\"Screen Size : \",self.screen_size)\n",
    "        \n",
    "class Tablet(Device):\n",
    "    def __init__(self,brand,model,battery_capacity):\n",
    "        super().__init__(brand,model)\n",
    "        self.battery_capacity=battery_capacity\n",
    "        \n",
    "    def display_info(self):\n",
    "        super().display_info()\n",
    "        print(\"battery_capacity : \",self.battery_capacity)  "
   ]
  },
  {
   "cell_type": "code",
   "execution_count": 22,
   "id": "5efb7ec8",
   "metadata": {},
   "outputs": [
    {
     "name": "stdout",
     "output_type": "stream",
     "text": [
      "Brand :  Redmi\n",
      "Model :  Note 10s\n"
     ]
    }
   ],
   "source": [
    "d1=Device(\"Redmi\",\"Note 10s\")\n",
    "d1.display_info()"
   ]
  },
  {
   "cell_type": "code",
   "execution_count": 23,
   "id": "b349f0aa",
   "metadata": {},
   "outputs": [
    {
     "name": "stdout",
     "output_type": "stream",
     "text": [
      "Brand :  Apple\n",
      "Model :  15\n",
      "Screen Size :  9 cm - 3cm\n"
     ]
    }
   ],
   "source": [
    "phone1=Phone(\"Apple\",\"15\",\"9 cm - 3cm\")\n",
    "phone1.display_info()"
   ]
  },
  {
   "cell_type": "code",
   "execution_count": 24,
   "id": "17af4dfa",
   "metadata": {},
   "outputs": [
    {
     "name": "stdout",
     "output_type": "stream",
     "text": [
      "Brand :  NOKIA\n",
      "Model :  I3\n",
      "battery_capacity :  50000 mh\n"
     ]
    }
   ],
   "source": [
    "tablet1=Tablet(\"NOKIA\",\"I3\",\"50000 mh\")\n",
    "tablet1.display_info()"
   ]
  },
  {
   "cell_type": "markdown",
   "id": "43688a83",
   "metadata": {},
   "source": [
    "### 10. Create a base class called \"BankAccount\" with attributes like \"account_number\" and \"balance.\" Derive two classes, \"SavingsAccount\" and \"CheckingAccount,\" from \"BankAccount.\" Add specific methods like \"calculate_interest\" for the \"SavingsAccount\" class and \"deduct_fees\" for the \"CheckingAccount\" class."
   ]
  },
  {
   "cell_type": "markdown",
   "id": "8bd3d013",
   "metadata": {},
   "source": [
    "#### Answer:-"
   ]
  },
  {
   "cell_type": "code",
   "execution_count": 25,
   "id": "e9110195",
   "metadata": {},
   "outputs": [],
   "source": [
    "class BankAccount:\n",
    "    def __init__(self,account_number,balance):\n",
    "        self.account_number=account_number\n",
    "        self.balance=balance\n",
    "        \n",
    "    def display_info(self):\n",
    "        print(\"account_number : \",self.account_number)\n",
    "        print(\"balance : \",self.balance)\n",
    "        \n",
    "        \n",
    "class SavingsAccount(BankAccount):\n",
    "    def __init__(self,account_number,balance,rate,time):\n",
    "        super().__init__(account_number,balance)\n",
    "        self.rate=rate\n",
    "        self.time=time\n",
    "\n",
    "        \n",
    "   #Interest = P * R * T. P = Principal amount (the beginning balance).\n",
    "  # R = Interest rate (usually per year, expressed as a decimal). \n",
    "  # T = Number of time periods (generally one-year time periods)\n",
    "    def calculate_interest(self):\n",
    "        self.interest=(self.balance*self.rate*self.time)/100\n",
    "        print(\"INTEREST : \",self.interest)\n",
    "        \n",
    "      \n",
    "    def display_info(self):\n",
    "        super().display_info()\n",
    "\n",
    "        \n",
    "class CheckingAccount(BankAccount):\n",
    "    def __init__(self,account_number,balance):\n",
    "        super().__init__(account_number,balance)\n",
    "    \n",
    "    def deduct_fees(self,deduct):\n",
    "        self.deduct=deduct\n",
    "        list1=[]\n",
    "        list1.append(self.deduct)\n",
    "        print(\"deduct_fees \",sum(list1))\n",
    "        print(\"balance is : \",self.balance-sum(list1))"
   ]
  },
  {
   "cell_type": "code",
   "execution_count": 26,
   "id": "186ff44a",
   "metadata": {},
   "outputs": [
    {
     "name": "stdout",
     "output_type": "stream",
     "text": [
      "account_number :  578634\n",
      "balance :  900000100010\n"
     ]
    }
   ],
   "source": [
    "account1=BankAccount(578634,900000100010)\n",
    "account1.display_info()"
   ]
  },
  {
   "cell_type": "code",
   "execution_count": 27,
   "id": "cb324a85",
   "metadata": {},
   "outputs": [
    {
     "name": "stdout",
     "output_type": "stream",
     "text": [
      "INTEREST :  1855.32\n"
     ]
    }
   ],
   "source": [
    "s1=SavingsAccount(12345,46383,4,1)\n",
    "s1.calculate_interest()"
   ]
  },
  {
   "cell_type": "code",
   "execution_count": 28,
   "id": "55ba4f38",
   "metadata": {},
   "outputs": [
    {
     "name": "stdout",
     "output_type": "stream",
     "text": [
      "deduct_fees  12\n",
      "balance is :  119988\n"
     ]
    }
   ],
   "source": [
    "c1=CheckingAccount(457689003,120000)\n",
    "c1.deduct_fees(12)"
   ]
  },
  {
   "cell_type": "code",
   "execution_count": null,
   "id": "d18c939b",
   "metadata": {},
   "outputs": [],
   "source": []
  }
 ],
 "metadata": {
  "kernelspec": {
   "display_name": "Python 3 (ipykernel)",
   "language": "python",
   "name": "python3"
  },
  "language_info": {
   "codemirror_mode": {
    "name": "ipython",
    "version": 3
   },
   "file_extension": ".py",
   "mimetype": "text/x-python",
   "name": "python",
   "nbconvert_exporter": "python",
   "pygments_lexer": "ipython3",
   "version": "3.9.7"
  }
 },
 "nbformat": 4,
 "nbformat_minor": 5
}
