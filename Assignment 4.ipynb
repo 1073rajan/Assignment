{
 "cells": [
  {
   "cell_type": "markdown",
   "id": "43c861a6",
   "metadata": {},
   "source": [
    "# Python Assignmen 4"
   ]
  },
  {
   "cell_type": "markdown",
   "id": "914c84d5",
   "metadata": {},
   "source": [
    "### 1. What exactly is [ ]?"
   ]
  },
  {
   "cell_type": "markdown",
   "id": "001fbdfd",
   "metadata": {},
   "source": [
    "Ans:- This is  square bracket [ ]. It is used to List so , [ ] this empty list in python."
   ]
  },
  {
   "cell_type": "markdown",
   "id": "534fcad1",
   "metadata": {},
   "source": [
    "### 2. In a list of values stored in a variable called spam, how would you assign the value hello' as the third value? (Assume [2, 4, 6, 8, 10] are in spam.)"
   ]
  },
  {
   "cell_type": "code",
   "execution_count": 1,
   "id": "b85b8893",
   "metadata": {},
   "outputs": [
    {
     "name": "stdout",
     "output_type": "stream",
     "text": [
      "[2, 4, 'hello', 8, 10]\n"
     ]
    }
   ],
   "source": [
    "# Ans:-\n",
    "spam=[2,4,6,8,10]\n",
    "spam[2]='hello'\n",
    "print(spam)"
   ]
  },
  {
   "cell_type": "markdown",
   "id": "38e5f8ee",
   "metadata": {},
   "source": [
    "### Lets pretend the spam includes the list ['a', 'b','c','d'] for the next three queries.\n",
    "### 3.What is the value of spam[int(int(3 * 2) / 11)]?"
   ]
  },
  {
   "cell_type": "code",
   "execution_count": 2,
   "id": "0b52b2a3",
   "metadata": {},
   "outputs": [
    {
     "data": {
      "text/plain": [
       "'d'"
      ]
     },
     "execution_count": 2,
     "metadata": {},
     "output_type": "execute_result"
    }
   ],
   "source": [
    "# Answer:-'d'\n",
    "spam=['a','b','c','d']\n",
    "spam[int(int('3' * 2) / 11)]"
   ]
  },
  {
   "cell_type": "markdown",
   "id": "34454e24",
   "metadata": {},
   "source": [
    "### 4. What is the value of spam[-1]?"
   ]
  },
  {
   "cell_type": "code",
   "execution_count": 3,
   "id": "ce0a865d",
   "metadata": {},
   "outputs": [
    {
     "data": {
      "text/plain": [
       "'d'"
      ]
     },
     "execution_count": 3,
     "metadata": {},
     "output_type": "execute_result"
    }
   ],
   "source": [
    "# Answer:-'d'\n",
    "spam[-1]"
   ]
  },
  {
   "cell_type": "markdown",
   "id": "b1c77dd2",
   "metadata": {},
   "source": [
    "### 5. What is the value of spam[:2]?"
   ]
  },
  {
   "cell_type": "code",
   "execution_count": 4,
   "id": "7405c17a",
   "metadata": {},
   "outputs": [
    {
     "data": {
      "text/plain": [
       "['a', 'b']"
      ]
     },
     "execution_count": 4,
     "metadata": {},
     "output_type": "execute_result"
    }
   ],
   "source": [
    "# Answer:-['a','b']\n",
    "spam[:2]"
   ]
  },
  {
   "cell_type": "markdown",
   "id": "43dc1667",
   "metadata": {},
   "source": [
    "### Let's pretend bacon has the list [3.14, 'cat' 11, 'cat', True] for the next three questions.\n",
    "### 6. What is the value of bacon.index['cat']?"
   ]
  },
  {
   "cell_type": "code",
   "execution_count": 6,
   "id": "a03c4737",
   "metadata": {},
   "outputs": [
    {
     "data": {
      "text/plain": [
       "1"
      ]
     },
     "execution_count": 6,
     "metadata": {},
     "output_type": "execute_result"
    }
   ],
   "source": [
    "# Answer:- 1.\n",
    "bacon=[3.14,'cat',11,'cat',True]\n",
    "bacon.index('cat')"
   ]
  },
  {
   "cell_type": "markdown",
   "id": "ef202b54",
   "metadata": {},
   "source": [
    "### 7. How does bacon.append(99) change the look of the list value in bacon?"
   ]
  },
  {
   "cell_type": "code",
   "execution_count": 8,
   "id": "bcb9df2b",
   "metadata": {},
   "outputs": [
    {
     "data": {
      "text/plain": [
       "[3.14, 'cat', 11, 'cat', True, 99, 99]"
      ]
     },
     "execution_count": 8,
     "metadata": {},
     "output_type": "execute_result"
    }
   ],
   "source": [
    "# Answer:- [3.14, 'cat', 11, 'cat', True, 99, 99]\n",
    "bacon.append(99)\n",
    "bacon"
   ]
  },
  {
   "cell_type": "markdown",
   "id": "79ba44e5",
   "metadata": {},
   "source": [
    "### 8. How does bacon.remove('cat') change the look of the list in bacon?"
   ]
  },
  {
   "cell_type": "code",
   "execution_count": 9,
   "id": "364d4ef3",
   "metadata": {},
   "outputs": [
    {
     "data": {
      "text/plain": [
       "[3.14, 11, 'cat', True, 99, 99]"
      ]
     },
     "execution_count": 9,
     "metadata": {},
     "output_type": "execute_result"
    }
   ],
   "source": [
    "# Answer:-\n",
    "bacon.remove('cat')\n",
    "bacon"
   ]
  },
  {
   "cell_type": "markdown",
   "id": "2c7dc5e3",
   "metadata": {},
   "source": [
    "### 9. What are the list concatenation and list replication operators?"
   ]
  },
  {
   "cell_type": "code",
   "execution_count": 11,
   "id": "8089055e",
   "metadata": {},
   "outputs": [
    {
     "data": {
      "text/plain": [
       "['Rajan', 'Kumar']"
      ]
     },
     "execution_count": 11,
     "metadata": {},
     "output_type": "execute_result"
    }
   ],
   "source": [
    "# Answer:-\n",
    "# list concatenation\n",
    "list1=[\"Rajan\"]\n",
    "list2=[\"Kumar\"]\n",
    "list1+list2"
   ]
  },
  {
   "cell_type": "code",
   "execution_count": 12,
   "id": "401ada92",
   "metadata": {},
   "outputs": [
    {
     "data": {
      "text/plain": [
       "[99, 88, 99, 88]"
      ]
     },
     "execution_count": 12,
     "metadata": {},
     "output_type": "execute_result"
    }
   ],
   "source": [
    "# list replication \n",
    "list3=[99,88]\n",
    "list3*2"
   ]
  },
  {
   "cell_type": "markdown",
   "id": "adf19f73",
   "metadata": {},
   "source": [
    "### 10. What is difference between the list methods append() and insert()?"
   ]
  },
  {
   "cell_type": "markdown",
   "id": "3b9b9318",
   "metadata": {},
   "source": [
    "### Answer:-\n",
    "    \n",
    "#### append() in this method we add value at the end of list\n",
    "\n",
    "#### insert() in this method we can insert value at any position"
   ]
  },
  {
   "cell_type": "code",
   "execution_count": 14,
   "id": "881da883",
   "metadata": {},
   "outputs": [
    {
     "name": "stdout",
     "output_type": "stream",
     "text": [
      "[1, 2, 3, 4, 6, 5]\n"
     ]
    }
   ],
   "source": [
    "# append() method\n",
    "list1=[1,2,3,4,6]\n",
    "list1.append(5)\n",
    "print(list1)"
   ]
  },
  {
   "cell_type": "code",
   "execution_count": 16,
   "id": "3cc7b6ba",
   "metadata": {},
   "outputs": [
    {
     "data": {
      "text/plain": [
       "['Rajan', 1, 3, 4, 5, 6]"
      ]
     },
     "execution_count": 16,
     "metadata": {},
     "output_type": "execute_result"
    }
   ],
   "source": [
    "# insert() method\n",
    "list2=[1,3,4,5,6]\n",
    "list2.insert(0,'Rajan')\n",
    "list2"
   ]
  },
  {
   "cell_type": "markdown",
   "id": "9f71defa",
   "metadata": {},
   "source": [
    "### 11. What are the two methods for removing items from a list?\n",
    "\n",
    "#### Answer:-\n",
    "#### remove() method.\n",
    "#### pop() method."
   ]
  },
  {
   "cell_type": "code",
   "execution_count": 17,
   "id": "de4ac21e",
   "metadata": {},
   "outputs": [
    {
     "data": {
      "text/plain": [
       "[3, 4, 5, 6]"
      ]
     },
     "execution_count": 17,
     "metadata": {},
     "output_type": "execute_result"
    }
   ],
   "source": [
    "# remove() method\n",
    "list=[1,3,4,5,6]\n",
    "list.remove(1)\n",
    "list"
   ]
  },
  {
   "cell_type": "code",
   "execution_count": 19,
   "id": "f31c5535",
   "metadata": {},
   "outputs": [
    {
     "data": {
      "text/plain": [
       "[1, 3, 4, 5]"
      ]
     },
     "execution_count": 19,
     "metadata": {},
     "output_type": "execute_result"
    }
   ],
   "source": [
    "# pop() method\n",
    "list=[1,3,4,5,6]\n",
    "list.pop()\n",
    "list"
   ]
  },
  {
   "cell_type": "markdown",
   "id": "2742bf49",
   "metadata": {},
   "source": [
    "### 12. Describe how list values and string values are identical."
   ]
  },
  {
   "cell_type": "markdown",
   "id": "c52043e1",
   "metadata": {},
   "source": [
    "Answer:-\n",
    "    \n",
    "1. Lists are similar to strings, which are ordered collections of characters.\n",
    "\n",
    "2. List and string both are sequences\n",
    "\n",
    "3. Both data types are indexed, sliced, iterated, and use the in and not in operators"
   ]
  },
  {
   "cell_type": "markdown",
   "id": "73d9ee21",
   "metadata": {},
   "source": [
    "### 13. Whats the difference between tuples and lists?"
   ]
  },
  {
   "cell_type": "markdown",
   "id": "892a5c82",
   "metadata": {},
   "source": [
    "#### Answer:-\n",
    "#### List list are mutable. and used the square brackets [ ].\n",
    "\n",
    "#### Tuple tuple are immutable. and used the parentheses ( )"
   ]
  },
  {
   "cell_type": "markdown",
   "id": "723966cd",
   "metadata": {},
   "source": [
    "### 14. How do you type a tuple value that only contains the integer 42?"
   ]
  },
  {
   "cell_type": "code",
   "execution_count": 21,
   "id": "df7fbea3",
   "metadata": {},
   "outputs": [
    {
     "data": {
      "text/plain": [
       "42"
      ]
     },
     "execution_count": 21,
     "metadata": {},
     "output_type": "execute_result"
    }
   ],
   "source": [
    "tuple=(42)\n",
    "tuple"
   ]
  },
  {
   "cell_type": "markdown",
   "id": "d75df65c",
   "metadata": {},
   "source": [
    "### 15. How do you get a list value's tuple form? How do you get a tuple value's list form?"
   ]
  },
  {
   "cell_type": "code",
   "execution_count": 22,
   "id": "bbfa5335",
   "metadata": {},
   "outputs": [
    {
     "name": "stdout",
     "output_type": "stream",
     "text": [
      "(1, 2, 3, 12, 45, 6)\n"
     ]
    }
   ],
   "source": [
    "# Answer:-\n",
    "# list into a tuple\n",
    "def convert_to_tuple(list):\n",
    "    return (*list, )\n",
    " \n",
    "# Driver function\n",
    "list = [1, 2, 3, 10,43,6,]\n",
    "print(convert_to_tuple(list))"
   ]
  },
  {
   "cell_type": "code",
   "execution_count": 23,
   "id": "0f06dca2",
   "metadata": {},
   "outputs": [
    {
     "name": "stdout",
     "output_type": "stream",
     "text": [
      "[1, 2, 3]\n"
     ]
    }
   ],
   "source": [
    "#convert tuple to list\n",
    "tuple1 = ( 1, 2, 3)\n",
    "list1 = []\n",
    " \n",
    "for i in tuple1:\n",
    "    list1.append(i)\n",
    "     \n",
    "print(list1)"
   ]
  },
  {
   "cell_type": "markdown",
   "id": "526ab1ec",
   "metadata": {},
   "source": [
    "### 16.Variables that \"contain\" list values are not necessarily lists themselves. Instead, what do they contain?"
   ]
  },
  {
   "cell_type": "markdown",
   "id": "bd3da3e5",
   "metadata": {},
   "source": [
    "#### Answer:-They will contain reference to list values"
   ]
  },
  {
   "cell_type": "markdown",
   "id": "1fcad7af",
   "metadata": {},
   "source": [
    "### 17. How do you distinguish between copy.copy() and copy.deepcopy()?"
   ]
  },
  {
   "cell_type": "markdown",
   "id": "8597cba7",
   "metadata": {},
   "source": [
    "#### Answer:-\n",
    "#### copy.copy() function will do a shallow copy of a list. A reference of an object is copied into another object\n",
    "\n",
    "#### copy.deepcopy it will do deep copy of list.it will creates a new compound object before inserting copies."
   ]
  },
  {
   "cell_type": "code",
   "execution_count": null,
   "id": "f860d57a",
   "metadata": {},
   "outputs": [],
   "source": []
  }
 ],
 "metadata": {
  "kernelspec": {
   "display_name": "Python 3 (ipykernel)",
   "language": "python",
   "name": "python3"
  },
  "language_info": {
   "codemirror_mode": {
    "name": "ipython",
    "version": 3
   },
   "file_extension": ".py",
   "mimetype": "text/x-python",
   "name": "python",
   "nbconvert_exporter": "python",
   "pygments_lexer": "ipython3",
   "version": "3.9.7"
  }
 },
 "nbformat": 4,
 "nbformat_minor": 5
}
