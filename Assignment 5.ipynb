{
 "cells": [
  {
   "cell_type": "markdown",
   "id": "2cf9b9d0",
   "metadata": {},
   "source": [
    "# Python Assignment 5"
   ]
  },
  {
   "cell_type": "markdown",
   "id": "a044e2d6",
   "metadata": {},
   "source": [
    "### 1. What does an empty dictionary's code look like?"
   ]
  },
  {
   "cell_type": "code",
   "execution_count": 1,
   "id": "f6980a59",
   "metadata": {},
   "outputs": [
    {
     "name": "stdout",
     "output_type": "stream",
     "text": [
      "{}\n"
     ]
    }
   ],
   "source": [
    "# Answer:-\n",
    "dict={} # empty dictinonary\n",
    "print(dict)"
   ]
  },
  {
   "cell_type": "markdown",
   "id": "5ab2fc65",
   "metadata": {},
   "source": [
    "### 2. What is the value of a dictionary value with the key 'foo' and the value 42?"
   ]
  },
  {
   "cell_type": "code",
   "execution_count": 2,
   "id": "966858b3",
   "metadata": {},
   "outputs": [
    {
     "name": "stdout",
     "output_type": "stream",
     "text": [
      "{'foo': 42}\n"
     ]
    }
   ],
   "source": [
    "# Answer:-\n",
    "dict={'foo':42}\n",
    "print(dict)"
   ]
  },
  {
   "cell_type": "markdown",
   "id": "dc5a2b82",
   "metadata": {},
   "source": [
    "### 3. What is the most significant distinction between a dictionary and a list?"
   ]
  },
  {
   "cell_type": "markdown",
   "id": "0de2a900",
   "metadata": {},
   "source": [
    "##### Answer:-\n",
    "##### List is ordered collection of data.\n",
    "##### Dictionary is unorderd collection of data. in this key value pair are there"
   ]
  },
  {
   "cell_type": "markdown",
   "id": "b87fcebb",
   "metadata": {},
   "source": [
    "### 4. What happens if you try to access spam['foo'] if spam is {'bar': 100}?"
   ]
  },
  {
   "cell_type": "code",
   "execution_count": 3,
   "id": "98422f5f",
   "metadata": {},
   "outputs": [
    {
     "ename": "KeyError",
     "evalue": "'foo'",
     "output_type": "error",
     "traceback": [
      "\u001b[1;31m---------------------------------------------------------------------------\u001b[0m",
      "\u001b[1;31mKeyError\u001b[0m                                  Traceback (most recent call last)",
      "\u001b[1;32m~\\AppData\\Local\\Temp/ipykernel_9396/1652685021.py\u001b[0m in \u001b[0;36m<module>\u001b[1;34m\u001b[0m\n\u001b[0;32m      1\u001b[0m \u001b[1;31m## Answer:-\u001b[0m\u001b[1;33m\u001b[0m\u001b[1;33m\u001b[0m\u001b[0m\n\u001b[0;32m      2\u001b[0m \u001b[0mspam\u001b[0m\u001b[1;33m=\u001b[0m\u001b[1;33m{\u001b[0m\u001b[1;34m'bar'\u001b[0m\u001b[1;33m:\u001b[0m\u001b[1;36m100\u001b[0m\u001b[1;33m}\u001b[0m\u001b[1;33m\u001b[0m\u001b[1;33m\u001b[0m\u001b[0m\n\u001b[1;32m----> 3\u001b[1;33m \u001b[0mspam\u001b[0m\u001b[1;33m[\u001b[0m\u001b[1;34m'foo'\u001b[0m\u001b[1;33m]\u001b[0m  \u001b[1;31m## it will give error\u001b[0m\u001b[1;33m\u001b[0m\u001b[1;33m\u001b[0m\u001b[0m\n\u001b[0m",
      "\u001b[1;31mKeyError\u001b[0m: 'foo'"
     ]
    }
   ],
   "source": [
    "## Answer:-\n",
    "spam={'bar':100}\n",
    "spam['foo']  ## it will give error"
   ]
  },
  {
   "cell_type": "markdown",
   "id": "697e9a9d",
   "metadata": {},
   "source": [
    "### 5. If a dictionary is stored in spam, what is the difference between the expressions 'cat' in spam and 'cat' in spam.keys()?"
   ]
  },
  {
   "cell_type": "code",
   "execution_count": null,
   "id": "07b18210",
   "metadata": {},
   "outputs": [],
   "source": [
    "## Answer:-\n",
    "spam={'cat':'2'}\n",
    "'cat' in spam    ## it returns true because cat is present in spam . Here its check that 'cat' is present."
   ]
  },
  {
   "cell_type": "code",
   "execution_count": null,
   "id": "cfb3c094",
   "metadata": {},
   "outputs": [],
   "source": [
    "'cat' in spam.keys()   # it returns true because 'cat' that key  is present in spam in form of key."
   ]
  },
  {
   "cell_type": "markdown",
   "id": "ce84e5ce",
   "metadata": {},
   "source": [
    "### 6. If a dictionary is stored in spam, what is the difference between the expressions 'cat' in spam and 'cat' in spam.values()?"
   ]
  },
  {
   "cell_type": "code",
   "execution_count": null,
   "id": "a3428902",
   "metadata": {},
   "outputs": [],
   "source": [
    "'cat' in spam #Here its check that 'cat' is present  in spam or not"
   ]
  },
  {
   "cell_type": "code",
   "execution_count": null,
   "id": "8a9eca82",
   "metadata": {},
   "outputs": [],
   "source": [
    "'cat' in spam.values() # checking that 'cat' value is present in spam or not"
   ]
  },
  {
   "cell_type": "markdown",
   "id": "40720b82",
   "metadata": {},
   "source": [
    "### 7. What is a shortcut for the following code?"
   ]
  },
  {
   "cell_type": "markdown",
   "id": "e32ea675",
   "metadata": {},
   "source": [
    "if 'color' not in spam:\n",
    "\n",
    "spam 'color' = 'black'"
   ]
  },
  {
   "cell_type": "code",
   "execution_count": null,
   "id": "fdbff886",
   "metadata": {},
   "outputs": [],
   "source": [
    "# Answer:-\n",
    "spam.setdefault('color','black')\n",
    "spam"
   ]
  },
  {
   "cell_type": "markdown",
   "id": "bc98147a",
   "metadata": {},
   "source": [
    "### 8. How do you \"pretty print\" dictionary values using which module and function?"
   ]
  },
  {
   "cell_type": "markdown",
   "id": "c6dda0bc",
   "metadata": {},
   "source": [
    "#### Answer:-"
   ]
  },
  {
   "cell_type": "code",
   "execution_count": null,
   "id": "59006cf7",
   "metadata": {},
   "outputs": [],
   "source": [
    "# We first import the pprint module\n",
    "\n",
    "import pprint\n",
    "\n",
    "# test dictionary\n",
    "test_dict = {\n",
    "    'serial_no': 73,\n",
    "    'name': 'Rajan kumar',\n",
    "    'class_attended': [{ 'Mongodb', 'python', 'sql'}]\n",
    "}\n",
    "\n",
    "pretty = pprint.pprint(test_dict)"
   ]
  },
  {
   "cell_type": "code",
   "execution_count": null,
   "id": "804032a5",
   "metadata": {},
   "outputs": [],
   "source": []
  }
 ],
 "metadata": {
  "kernelspec": {
   "display_name": "Python 3 (ipykernel)",
   "language": "python",
   "name": "python3"
  },
  "language_info": {
   "codemirror_mode": {
    "name": "ipython",
    "version": 3
   },
   "file_extension": ".py",
   "mimetype": "text/x-python",
   "name": "python",
   "nbconvert_exporter": "python",
   "pygments_lexer": "ipython3",
   "version": "3.9.7"
  }
 },
 "nbformat": 4,
 "nbformat_minor": 5
}
