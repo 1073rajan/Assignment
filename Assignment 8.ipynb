{
 "cells": [
  {
   "cell_type": "markdown",
   "id": "0e651bfd",
   "metadata": {},
   "source": [
    "# Python Assignment 8"
   ]
  },
  {
   "cell_type": "markdown",
   "id": "2f578193",
   "metadata": {},
   "source": [
    "### 1. In Python, what is the difference between a built-in function and a user-defined function? Provide an example of each.\n",
    "#### Answer:-\n",
    "Built-in fuction A fuction that came with python or already built is built-in function.\n",
    "\n",
    "User define function A function that is built your self is called user define function."
   ]
  },
  {
   "cell_type": "code",
   "execution_count": 2,
   "id": "2cb02100",
   "metadata": {},
   "outputs": [
    {
     "data": {
      "text/plain": [
       "[1, 2, 3, 5, 6, 7, 8, 8]"
      ]
     },
     "execution_count": 2,
     "metadata": {},
     "output_type": "execute_result"
    }
   ],
   "source": [
    "lst=[8,2,5,3,7,8,1,6]\n",
    "lst.sort()  # this is built-in function\n",
    "lst"
   ]
  },
  {
   "cell_type": "code",
   "execution_count": 3,
   "id": "bb4dffda",
   "metadata": {},
   "outputs": [
    {
     "name": "stdout",
     "output_type": "stream",
     "text": [
      "Rajan Kumar\n"
     ]
    }
   ],
   "source": [
    "def ineuron():  ## user define name\n",
    "    print(\"Rajan Kumar\")\n",
    "    \n",
    "ineuron()"
   ]
  },
  {
   "cell_type": "markdown",
   "id": "ced50b57",
   "metadata": {},
   "source": [
    "### 2. How can you pass arguments to a function in Python? Explain the difference between positional arguments and keyword arguments.\n",
    "#### Answer:-"
   ]
  },
  {
   "cell_type": "code",
   "execution_count": 4,
   "id": "be4c9dbb",
   "metadata": {},
   "outputs": [
    {
     "name": "stdout",
     "output_type": "stream",
     "text": [
      "Rajan Kumar\n"
     ]
    }
   ],
   "source": [
    "def name_friend(Name): # Name is argument of  function\n",
    "    print(Name)\n",
    "\n",
    "# this is finction call\n",
    "name_friend(\"Rajan Kumar\") # we pass argument as kaushal"
   ]
  },
  {
   "cell_type": "code",
   "execution_count": 8,
   "id": "eb882549",
   "metadata": {},
   "outputs": [
    {
     "name": "stdout",
     "output_type": "stream",
     "text": [
      "addition is  10\n"
     ]
    }
   ],
   "source": [
    "# keyword argument\n",
    "def add(x,y):\n",
    "    return x+y\n",
    "    \n",
    "z=add(6,4) ## this is keyword argument\n",
    "print(\"addition is \",z)"
   ]
  },
  {
   "cell_type": "code",
   "execution_count": 9,
   "id": "94a7acff",
   "metadata": {},
   "outputs": [
    {
     "name": "stdout",
     "output_type": "stream",
     "text": [
      "addition is  11\n"
     ]
    }
   ],
   "source": [
    "# Positional argument\n",
    "def add(x,y):\n",
    "    addition=x+y\n",
    "\n",
    "    return addition\n",
    "   \n",
    "z=add(x=9,y=2) ## this is positional argument\n",
    "print(\"addition is \",z)"
   ]
  },
  {
   "cell_type": "markdown",
   "id": "e474e753",
   "metadata": {},
   "source": [
    "### 3. What is the purpose of the return statement in a function? Can a function have multiple return statements? Explain with an example."
   ]
  },
  {
   "cell_type": "markdown",
   "id": "6ff6b55e",
   "metadata": {},
   "source": [
    "#### The Purpose of return statement of a function is to return the value of function to calling function.\n",
    "\n",
    "#### yes it is possible but if we have two return statement then fisrt one will conside."
   ]
  },
  {
   "cell_type": "code",
   "execution_count": 10,
   "id": "9df0903a",
   "metadata": {},
   "outputs": [
    {
     "name": "stdout",
     "output_type": "stream",
     "text": [
      "addition is  3\n"
     ]
    }
   ],
   "source": [
    "def add(a,b):\n",
    "    addition=a+b\n",
    "    \n",
    "    return addition # return statement and it will consider\n",
    "    return 2\n",
    "    \n",
    "c=add(1,2)\n",
    "print(\"addition is \",c)"
   ]
  },
  {
   "cell_type": "markdown",
   "id": "f0982847",
   "metadata": {},
   "source": [
    "### 4. What are lambda functions in Python? How are they different from regular functions? Provide an example where a lambda function can be useful.\n",
    "##### Answer:-"
   ]
  },
  {
   "cell_type": "markdown",
   "id": "d04b939e",
   "metadata": {},
   "source": [
    "Lambda Functions are anonymous functions means that the function is without a name.\n",
    "\n",
    "Lambda functions are similar to user-defined functions but without a name"
   ]
  },
  {
   "cell_type": "code",
   "execution_count": 12,
   "id": "6f52a3a0",
   "metadata": {},
   "outputs": [
    {
     "name": "stdout",
     "output_type": "stream",
     "text": [
      "INEURON\n"
     ]
    }
   ],
   "source": [
    "str1 = \"ineuron\"\n",
    " \n",
    "upper = lambda string: string.upper()\n",
    "print(upper(str1))"
   ]
  },
  {
   "cell_type": "markdown",
   "id": "8ed4cf60",
   "metadata": {},
   "source": [
    "### 5. How does the concept of \"scope\" apply to functions in Python? Explain the difference between local scope and global scope.\n",
    "#### Answer:-"
   ]
  },
  {
   "cell_type": "markdown",
   "id": "5602ec49",
   "metadata": {},
   "source": [
    "When the function is created on that time scope is also created for particular finction menas area varibale is valid . If variable is valid in side function area mean we can says that variable is under scope.\n",
    "\n",
    "Local Variable when variable is under scope in function that is called local variable.\n",
    "\n",
    "Globle Variable when variable is valid inside function scope and outside function scope called globle variable."
   ]
  },
  {
   "cell_type": "code",
   "execution_count": 14,
   "id": "489a9caa",
   "metadata": {},
   "outputs": [
    {
     "name": "stdout",
     "output_type": "stream",
     "text": [
      "[3, 5, 7, 9, 1, 4]\n"
     ]
    }
   ],
   "source": [
    "def myfunc():\n",
    "  x = [3,5,7,9,1,4]   # this is local variable\n",
    "  print(x)\n",
    "\n",
    "myfunc()"
   ]
  },
  {
   "cell_type": "code",
   "execution_count": 15,
   "id": "b99c6857",
   "metadata": {},
   "outputs": [
    {
     "name": "stdout",
     "output_type": "stream",
     "text": [
      "[3, 5, 7, 9, 1, 4]\n"
     ]
    }
   ],
   "source": [
    " x = [3,5,7,9,1,4]  # this is global variable\n",
    "def myfunc():\n",
    " \n",
    "  print(x)\n",
    "\n",
    "myfunc()"
   ]
  },
  {
   "cell_type": "markdown",
   "id": "f505257e",
   "metadata": {},
   "source": [
    "### 6. How can you use the \"return\" statement in a Python function to return multiple values?\n",
    "#### Answer:-"
   ]
  },
  {
   "cell_type": "markdown",
   "id": "590a3561",
   "metadata": {},
   "source": [
    "if we want to return multiple value then we can write multiple value seprated with commas(,)."
   ]
  },
  {
   "cell_type": "code",
   "execution_count": 19,
   "id": "d836c8e3",
   "metadata": {},
   "outputs": [
    {
     "data": {
      "text/plain": [
       "('welcome to ineuron.ai', 1073, 1.6)"
      ]
     },
     "execution_count": 19,
     "metadata": {},
     "output_type": "execute_result"
    }
   ],
   "source": [
    "def fun():\n",
    "    return \"welcome to ineuron.ai\" ,1073 ,1.6 # returning multiple value\n",
    "\n",
    "fun()"
   ]
  },
  {
   "cell_type": "markdown",
   "id": "92ac21ca",
   "metadata": {},
   "source": [
    "### 7. What is the difference between the \"pass by value\" and \"pass by reference\" concepts when it comes to function arguments in Python?\n",
    "#### Answer:-"
   ]
  },
  {
   "cell_type": "markdown",
   "id": "0127a6f2",
   "metadata": {},
   "source": [
    "pass by value is concept that copying the function parameter value to another variable. And pass by reference passing the actual parameters to the function. Thus, this is the main difference between pass by value and pass by reference."
   ]
  },
  {
   "cell_type": "markdown",
   "id": "e395d400",
   "metadata": {},
   "source": [
    "### 8. Create a function that can take integer or decimal value and do following operations:\n",
    "#### a. Logarithmic function (log x)\n",
    "#### b. Exponential function (exp(x))\n",
    "#### c. Power function with base 2 (2**x)\n",
    "#### d. Square root"
   ]
  },
  {
   "cell_type": "code",
   "execution_count": 20,
   "id": "3afe098c",
   "metadata": {},
   "outputs": [
    {
     "name": "stdout",
     "output_type": "stream",
     "text": [
      "Enter X value: 7.2\n",
      "Log value of 7.2 is: 1.9740810260220096\n",
      "Exp value of 7.2 is: 1339.430764394418\n",
      "Power value of 7.2 is: 147.0333894396205\n",
      "Square root value of 7.2 is: 2.6832815729997477\n"
     ]
    }
   ],
   "source": [
    "import math\n",
    "\n",
    "x=float(input(\"Enter X value: \"))\n",
    "print (f\"Log value of {x} is:\" ,math.log(x))\n",
    "print (f\"Exp value of {x} is:\" ,math.exp(x))\n",
    "print (f\"Power value of {x} is:\" ,2**x)\n",
    "print (f\"Square root value of {x} is:\" ,math.sqrt(x))"
   ]
  },
  {
   "cell_type": "markdown",
   "id": "3848429e",
   "metadata": {},
   "source": [
    "### 9. Create a function that takes a full name as an argument and returns first name and last name.\n",
    "#### Answer:-"
   ]
  },
  {
   "cell_type": "code",
   "execution_count": 21,
   "id": "77a340aa",
   "metadata": {},
   "outputs": [
    {
     "data": {
      "text/plain": [
       "('Rajan', 'Kumar')"
      ]
     },
     "execution_count": 21,
     "metadata": {},
     "output_type": "execute_result"
    }
   ],
   "source": [
    "def full_last_name(fullname):\n",
    "    \n",
    "    first=fullname.split()[0]\n",
    "    last=fullname.split()[-1]\n",
    "    return first,last\n",
    "\n",
    "\n",
    "full_last_name(\"Rajan Kumar\")"
   ]
  },
  {
   "cell_type": "code",
   "execution_count": null,
   "id": "6e9dbab9",
   "metadata": {},
   "outputs": [],
   "source": []
  }
 ],
 "metadata": {
  "kernelspec": {
   "display_name": "Python 3 (ipykernel)",
   "language": "python",
   "name": "python3"
  },
  "language_info": {
   "codemirror_mode": {
    "name": "ipython",
    "version": 3
   },
   "file_extension": ".py",
   "mimetype": "text/x-python",
   "name": "python",
   "nbconvert_exporter": "python",
   "pygments_lexer": "ipython3",
   "version": "3.9.7"
  }
 },
 "nbformat": 4,
 "nbformat_minor": 5
}
