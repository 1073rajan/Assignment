{
 "cells": [
  {
   "cell_type": "markdown",
   "id": "7b056dfb",
   "metadata": {},
   "source": [
    "# Python Assignment 9"
   ]
  },
  {
   "cell_type": "markdown",
   "id": "69591a55",
   "metadata": {},
   "source": [
    "### 1. What is a lambda function in Python, and how does it differ from a regular function?\n",
    "#### Answer:-\n",
    "#### A lambda function is an defined without a name that can take any number of arguments but lamda function return only one expression like a regular function. lambda function is used for sort expression.\n",
    "#### In regular function we use def to create a function but in lambda be use lambda name"
   ]
  },
  {
   "cell_type": "code",
   "execution_count": 1,
   "id": "b34d1f0d",
   "metadata": {},
   "outputs": [
    {
     "name": "stdout",
     "output_type": "stream",
     "text": [
      "RAJAN KUMAR\n"
     ]
    }
   ],
   "source": [
    "str1 = \"rajan kumar\"\n",
    " \n",
    "upper = lambda string: string.upper()\n",
    "print(upper(str1))"
   ]
  },
  {
   "cell_type": "markdown",
   "id": "8c317132",
   "metadata": {},
   "source": [
    "### 2. Can a lambda function in Python have multiple arguments? If yes, how can you define and use them?\n",
    "#### Answer:-\n",
    "#### Yes lambda function in python have multiple arguments."
   ]
  },
  {
   "cell_type": "code",
   "execution_count": 2,
   "id": "9cdf1452",
   "metadata": {},
   "outputs": [
    {
     "data": {
      "text/plain": [
       "24"
      ]
     },
     "execution_count": 2,
     "metadata": {},
     "output_type": "execute_result"
    }
   ],
   "source": [
    "(lambda x, y ,z : x + y + z)(7,8,9)"
   ]
  },
  {
   "cell_type": "markdown",
   "id": "5f2fd981",
   "metadata": {},
   "source": [
    "### 3. How are lambda functions typically used in Python? Provide an example use case."
   ]
  },
  {
   "cell_type": "markdown",
   "id": "92bef54a",
   "metadata": {},
   "source": [
    "##### Answer:-\n",
    "lambda function can have any number of arguments but only one expression, which is evaluated and returned."
   ]
  },
  {
   "cell_type": "code",
   "execution_count": 5,
   "id": "b32290b1",
   "metadata": {},
   "outputs": [
    {
     "name": "stdout",
     "output_type": "stream",
     "text": [
      "Using function defined with def keyword, cube: 162\n",
      "Using lambda function, cube: 162\n"
     ]
    }
   ],
   "source": [
    "def cube(y,z,p):\n",
    "    return y*z*p\n",
    " \n",
    "lambda_cube = lambda y,z,p: y*z*p\n",
    "print(\"Using function defined with def keyword, cube:\", cube(3,6,9))\n",
    "print(\"Using lambda function, cube:\", lambda_cube(3,6,9))"
   ]
  },
  {
   "cell_type": "markdown",
   "id": "9e16a781",
   "metadata": {},
   "source": [
    "### 4. What are the advantages and limitations of lambda functions compared to regular functions in Python?\n",
    "#### Answer:-\n",
    " Advantages In lambda function expressions are usually a single line of a statement. When ever we want we can use.And the main advantage is their concise and readable syntax.\n",
    " \n",
    "Limitation:- We can not use for lagre problem.\n",
    "\n",
    "Due to one line syntex it will not solve the problem of multiple line function problem as noramal function solve"
   ]
  },
  {
   "cell_type": "markdown",
   "id": "851f34d1",
   "metadata": {},
   "source": [
    "### 5.Are lambda functions in Python able to access variables defined outside of their own scope? Explain with an example."
   ]
  },
  {
   "cell_type": "markdown",
   "id": "61a5440c",
   "metadata": {},
   "source": [
    "#### Answer:-\n",
    "No lambda function can not able to access outside variable . they have their own local variable"
   ]
  },
  {
   "cell_type": "code",
   "execution_count": 7,
   "id": "9d0c564a",
   "metadata": {},
   "outputs": [
    {
     "name": "stdout",
     "output_type": "stream",
     "text": [
      "12\n"
     ]
    }
   ],
   "source": [
    "z=1 # this will not be acceptable bcz it is not local varible for lambda function\n",
    "y=2 # this will not be acceptable bcz it is not local varible for lambda function\n",
    "\n",
    "lambda_cube = lambda y,z,p: y*z*p\n",
    "print(lambda_cube(2,3,2))"
   ]
  },
  {
   "cell_type": "markdown",
   "id": "c729bae7",
   "metadata": {},
   "source": [
    "### 6. Write a lambda function to calculate the square of a given number.\n",
    "#### Answer:-"
   ]
  },
  {
   "cell_type": "code",
   "execution_count": 8,
   "id": "1d556b80",
   "metadata": {},
   "outputs": [
    {
     "name": "stdout",
     "output_type": "stream",
     "text": [
      "25\n"
     ]
    }
   ],
   "source": [
    "lambda_surt = lambda y: y**2\n",
    "print(lambda_surt(5))"
   ]
  },
  {
   "cell_type": "markdown",
   "id": "327065ac",
   "metadata": {},
   "source": [
    "### 7. Create a lambda function to find the maximum value in a list of integers.\n",
    "#### Answer:-"
   ]
  },
  {
   "cell_type": "code",
   "execution_count": 12,
   "id": "cd2191dc",
   "metadata": {},
   "outputs": [
    {
     "name": "stdout",
     "output_type": "stream",
     "text": [
      "99\n"
     ]
    }
   ],
   "source": [
    "list1=[12,43,67,99,22,45,90,89,56,75,34,77,87]\n",
    "\n",
    "print(max(list1, key=lambda value: int(value)) )"
   ]
  },
  {
   "cell_type": "markdown",
   "id": "6864a67a",
   "metadata": {},
   "source": [
    "### 8. Implement a lambda function to filter out all the even numbers from a list of integers.\n",
    "#### Answer:-"
   ]
  },
  {
   "cell_type": "code",
   "execution_count": 11,
   "id": "32266d2a",
   "metadata": {},
   "outputs": [
    {
     "name": "stdout",
     "output_type": "stream",
     "text": [
      "[12, 22, 90, 56, 34]\n"
     ]
    }
   ],
   "source": [
    "list1=[12,43,67,99,22,45,90,89,56,75,34,77,87]\n",
    " \n",
    "final_list1 = list(filter(lambda x: (x % 2 == 0), list1))\n",
    "print(final_list1)"
   ]
  },
  {
   "cell_type": "markdown",
   "id": "73ea575f",
   "metadata": {},
   "source": [
    "### 9. Write a lambda function to sort a list of strings in ascending order based on the length of each string.\n",
    "#### Answer:-"
   ]
  },
  {
   "cell_type": "code",
   "execution_count": 14,
   "id": "4a39672d",
   "metadata": {},
   "outputs": [
    {
     "name": "stdout",
     "output_type": "stream",
     "text": [
      "['Rajan', 'Vikash', 'Pankaj', 'swathi', 'Dahlia', 'Nithya', 'Santhosh']\n"
     ]
    }
   ],
   "source": [
    "myList = [\"Santhosh\", \"Rajan\", \"Vikash\", \"Pankaj\", \"swathi\",\"Dahlia\",\"Nithya\"]\n",
    " \n",
    "sortedList = sorted(myList , key=lambda x: len(x))\n",
    " \n",
    "print(sortedList)"
   ]
  },
  {
   "cell_type": "markdown",
   "id": "198518ce",
   "metadata": {},
   "source": [
    "### 10. Create a lambda function that takes two lists as input and returns a new list containing the common elements between the two lists.\n",
    "#### Answer:-"
   ]
  },
  {
   "cell_type": "code",
   "execution_count": 15,
   "id": "e27b5b32",
   "metadata": {},
   "outputs": [
    {
     "name": "stdout",
     "output_type": "stream",
     "text": [
      "Intersection of the said arrays:  [1, 2, 8, 9]\n"
     ]
    }
   ],
   "source": [
    "array1 = [1, 2, 3, 5, 7, 8, 9, 10]\n",
    "array2 = [1, 2, 4, 8, 9]\n",
    "result = list(filter(lambda x: x in array1, array2)) \n",
    "print (\"Intersection of the said arrays: \",result)"
   ]
  },
  {
   "cell_type": "markdown",
   "id": "2f399daf",
   "metadata": {},
   "source": [
    "### 11. Write a recursive function to calculate the factorial of a given positive integer.\n",
    "#### Answer:-"
   ]
  },
  {
   "cell_type": "code",
   "execution_count": 16,
   "id": "f0f2c8c9",
   "metadata": {},
   "outputs": [
    {
     "name": "stdout",
     "output_type": "stream",
     "text": [
      "Enter Value: 6\n",
      "Factorial of 6 is 720\n"
     ]
    }
   ],
   "source": [
    "def factorial(n): \n",
    "       \n",
    "    if n == 0: \n",
    "        return 1\n",
    "      \n",
    "    return n * factorial(n-1)  ## recursive function\n",
    "   \n",
    "num = int(input(\"Enter Value: \"))\n",
    "print(\"Factorial of\", num, \"is\", factorial(num)) "
   ]
  },
  {
   "cell_type": "markdown",
   "id": "f5606879",
   "metadata": {},
   "source": [
    "### 12. Implement a recursive function to compute the nth Fibonacci number.\n",
    "#### Answer:-"
   ]
  },
  {
   "cell_type": "code",
   "execution_count": 18,
   "id": "07e4f946",
   "metadata": {},
   "outputs": [
    {
     "name": "stdout",
     "output_type": "stream",
     "text": [
      "Enter value:9\n",
      "9 th Fibonacci Number: \n",
      "34\n"
     ]
    }
   ],
   "source": [
    "def fibonacci_1(n):\n",
    "    if n <= 1:\n",
    "        return n\n",
    "    return fibonacci_1(n-1) + fibonacci_1(n-2) ## recursive function\n",
    " \n",
    "n = int(input(\"Enter value:\"))\n",
    "print(n, \"th Fibonacci Number: \")\n",
    "print(fibonacci_1(n))"
   ]
  },
  {
   "cell_type": "markdown",
   "id": "db9b1e16",
   "metadata": {},
   "source": [
    "### 13. Create a recursive function to find the sum of all the elements in a given list.\n",
    "#### Answer:-"
   ]
  },
  {
   "cell_type": "code",
   "execution_count": 25,
   "id": "f4e461de",
   "metadata": {},
   "outputs": [
    {
     "name": "stdout",
     "output_type": "stream",
     "text": [
      "The sum of elements in the list is: 232\n"
     ]
    }
   ],
   "source": [
    "def recursive_sum(numbers):\n",
    "    # Base case: if the list is empty, return 0\n",
    "    if not numbers:\n",
    "        return 0\n",
    "    else:\n",
    "        # Recursive case: return the first element plus the sum of the rest of the list\n",
    "        return numbers[0] + recursive_sum(numbers[1:])\n",
    "\n",
    "# List of numbers\n",
    "elements = [22,34,65,12,17,19,27,36]\n",
    "\n",
    "# Calculate the sum using the recursive function\n",
    "total_sum = recursive_sum(elements)\n",
    "\n",
    "# Print the sum of elements\n",
    "print(f\"The sum of elements in the list is: {total_sum}\")\n"
   ]
  },
  {
   "cell_type": "markdown",
   "id": "739a6851",
   "metadata": {},
   "source": [
    "### 14. Write a recursive function to determine whether a given string is a palindrome.\n",
    "#### Answer:-"
   ]
  },
  {
   "cell_type": "code",
   "execution_count": 26,
   "id": "5c0f5cc4",
   "metadata": {},
   "outputs": [
    {
     "name": "stdout",
     "output_type": "stream",
     "text": [
      "Yes\n"
     ]
    }
   ],
   "source": [
    "def isPalindrome(s, i):\n",
    "    if(i > len(s)/2):\n",
    "        return True\n",
    "    ans = False\n",
    "    if((s[i] is s[len(s) - i - 1]) and isPalindrome(s, i + 1)): ## recursive function\n",
    "        ans = True\n",
    "    return ans\n",
    " \n",
    "str = \"kauak\"\n",
    "if (isPalindrome(str,0)): \n",
    "    print(\"Yes\")\n",
    "else:\n",
    "    print(\"No\")\n",
    "     "
   ]
  },
  {
   "cell_type": "markdown",
   "id": "19ab416f",
   "metadata": {},
   "source": [
    "### 15. Implement a recursive function to find the greatest common divisor (GCD) of two positive integers.\n",
    "#### Answer:-"
   ]
  },
  {
   "cell_type": "code",
   "execution_count": 28,
   "id": "02eaa24d",
   "metadata": {},
   "outputs": [
    {
     "name": "stdout",
     "output_type": "stream",
     "text": [
      "GCD of 84 and 36 is 12\n"
     ]
    }
   ],
   "source": [
    "def gcd(p, q):\n",
    "    # Everything divides 0\n",
    "    if p== 0:\n",
    "        return b\n",
    "    if q == 0:\n",
    "        return a\n",
    " \n",
    "    # Base case\n",
    "    if p == q:\n",
    "        return p\n",
    " \n",
    "    # p is greater\n",
    "    if p > q:\n",
    "        if p % q == 0:\n",
    "            return p\n",
    "        return gcd(p - q, p) ## recursive function as\n",
    "    if p % q == 0:\n",
    "        return p\n",
    "    return gcd(p, q - p) ## recursive function\n",
    "\n",
    "p = 84\n",
    "q = 36\n",
    "print(f\"GCD of {p} and {q} is {gcd(p, q)}\")"
   ]
  },
  {
   "cell_type": "code",
   "execution_count": null,
   "id": "9cf1684f",
   "metadata": {},
   "outputs": [],
   "source": []
  }
 ],
 "metadata": {
  "kernelspec": {
   "display_name": "Python 3 (ipykernel)",
   "language": "python",
   "name": "python3"
  },
  "language_info": {
   "codemirror_mode": {
    "name": "ipython",
    "version": 3
   },
   "file_extension": ".py",
   "mimetype": "text/x-python",
   "name": "python",
   "nbconvert_exporter": "python",
   "pygments_lexer": "ipython3",
   "version": "3.9.7"
  }
 },
 "nbformat": 4,
 "nbformat_minor": 5
}
