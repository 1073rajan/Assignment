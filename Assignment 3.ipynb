{
 "cells": [
  {
   "cell_type": "markdown",
   "id": "f873ec01",
   "metadata": {},
   "source": [
    "# Python Assignment 3"
   ]
  },
  {
   "cell_type": "markdown",
   "id": "9dc2427a",
   "metadata": {},
   "source": [
    "### 1. Why are functions advantageous to have in your programs?"
   ]
  },
  {
   "cell_type": "markdown",
   "id": "80d6ca2d",
   "metadata": {},
   "source": [
    "Ans:- Advantages of functions:-\n",
    "\n",
    "1.function is the block of code that can be reused as many times as we want inside a program.\n",
    "2.The function reduces the size of the program.\n",
    "3.function can reduce the repetition of the same statements in the program.\n",
    "4.It makes readable by providing modularity to our program.\n",
    "5.To use a function we need to call a function."
   ]
  },
  {
   "cell_type": "markdown",
   "id": "48ce2255",
   "metadata": {},
   "source": [
    "### 2. When does the code in a function run: when its specified or when its called?"
   ]
  },
  {
   "cell_type": "markdown",
   "id": "20e5d279",
   "metadata": {},
   "source": [
    "Ans:- The code in function will run when the function will be called."
   ]
  },
  {
   "cell_type": "markdown",
   "id": "9216f153",
   "metadata": {},
   "source": [
    "### 3. What statement creates a function?"
   ]
  },
  {
   "cell_type": "markdown",
   "id": "6e1ccbe7",
   "metadata": {},
   "source": [
    "Ans:- def statement define to create a function."
   ]
  },
  {
   "cell_type": "code",
   "execution_count": 1,
   "id": "2a7303d5",
   "metadata": {},
   "outputs": [
    {
     "name": "stdout",
     "output_type": "stream",
     "text": [
      "iNeuron\n"
     ]
    }
   ],
   "source": [
    "#Example:-\n",
    "\n",
    "def function_name():\n",
    "    print(\"iNeuron\")\n",
    "    \n",
    "function_name()"
   ]
  },
  {
   "cell_type": "markdown",
   "id": "8b2d5a23",
   "metadata": {},
   "source": [
    "### 4. What is the difference between a function and a function call?"
   ]
  },
  {
   "cell_type": "markdown",
   "id": "c2724e48",
   "metadata": {},
   "source": [
    "function is a few line of code which implement a logic and return the result. It may or may not accept the parameters.\n",
    "While a function call is that line of code where we call the function by passing parameters if required."
   ]
  },
  {
   "cell_type": "code",
   "execution_count": 2,
   "id": "5f302cd8",
   "metadata": {},
   "outputs": [
    {
     "data": {
      "text/plain": [
       "17"
      ]
     },
     "execution_count": 2,
     "metadata": {},
     "output_type": "execute_result"
    }
   ],
   "source": [
    "# Example:-\n",
    "\n",
    "def fun_add(x,y): # This is the function which we have created to add number.\n",
    "    return(x+y)\n",
    "\n",
    "fun_add(8,9) # here we are calling the function to execute.\n",
    "    "
   ]
  },
  {
   "cell_type": "markdown",
   "id": "86662b77",
   "metadata": {},
   "source": [
    "### 5. How many global scopes are there in a Python program? How many local scopes?"
   ]
  },
  {
   "cell_type": "markdown",
   "id": "f02eb8b4",
   "metadata": {},
   "source": [
    "Ans:- While the scope of a local variable is restricted to the function in which it is defined, that of global variables is the entire program."
   ]
  },
  {
   "cell_type": "code",
   "execution_count": 3,
   "id": "2ba2fd92",
   "metadata": {},
   "outputs": [
    {
     "name": "stdout",
     "output_type": "stream",
     "text": [
      "Local scope:- welcome to ineuron\n",
      "================================================================\n",
      "================================================================\n",
      "Local scope:- Hello World\n",
      "Global scope:- Hello World\n"
     ]
    }
   ],
   "source": [
    "# Example program:- Local scope \n",
    "## When we declare variables inside a function, these variables will have a local scope\n",
    "\n",
    "def ineuron():\n",
    "    # local variable\n",
    "    Name = 'welcome to ineuron' # local scope\n",
    "    \n",
    "    print('Local scope:-', Name)\n",
    "\n",
    "ineuron() # We cannot access them outside the function.\n",
    "\n",
    "print(\"================================================================\")\n",
    "print(\"================================================================\")\n",
    "\n",
    "\n",
    "# Example program :- Global scope\n",
    "# A variable declared outside of the function or in global scope\n",
    "\n",
    "python = 'Hello World' # global variable\n",
    "\n",
    "def fun_name():\n",
    "    # declare local variable\n",
    "    print('Local scope:-', python)\n",
    "\n",
    "fun_name()\n",
    "print('Global scope:-', python)\n",
    "\n"
   ]
  },
  {
   "cell_type": "markdown",
   "id": "82f03376",
   "metadata": {},
   "source": [
    "### 6. What happens to variables in a local scope when the function call returns?"
   ]
  },
  {
   "cell_type": "markdown",
   "id": "03d0e21b",
   "metadata": {},
   "source": [
    "Ans:- When the function call returns then local variables will be destroyed."
   ]
  },
  {
   "cell_type": "markdown",
   "id": "b0dfa54b",
   "metadata": {},
   "source": [
    "### 7. What is the concept of a return value? Is it possible to have a return value in an expression?"
   ]
  },
  {
   "cell_type": "markdown",
   "id": "f70d8d82",
   "metadata": {},
   "source": [
    "Ans:-  when the function completes its task then it return the value to the calling function. Yes its possible to have return value in an expression."
   ]
  },
  {
   "cell_type": "markdown",
   "id": "cf3bc7ac",
   "metadata": {},
   "source": [
    "### 8. If a function does not have a return statement, what is the return value of a call to that function?"
   ]
  },
  {
   "cell_type": "markdown",
   "id": "60bbf160",
   "metadata": {},
   "source": [
    "Ans:- If a function does not have a return statement then it does not return anyvalue.simply execute. "
   ]
  },
  {
   "cell_type": "markdown",
   "id": "2d6ac42e",
   "metadata": {},
   "source": [
    "### 9. How do you make a function variable refer to the global variable?"
   ]
  },
  {
   "cell_type": "code",
   "execution_count": 4,
   "id": "93369256",
   "metadata": {},
   "outputs": [
    {
     "name": "stdout",
     "output_type": "stream",
     "text": [
      "Local scope:- Hello World\n",
      "Global scope:- Hello World\n"
     ]
    }
   ],
   "source": [
    "### Ans:- we can use the global keyword to declare which variables are global.\n",
    "# Example:-\n",
    "python = 'Hello World' # global variable\n",
    "\n",
    "def fun_name():\n",
    "    # declare local variable\n",
    "    print('Local scope:-', python)\n",
    "\n",
    "fun_name()\n",
    "print('Global scope:-', python)"
   ]
  },
  {
   "cell_type": "markdown",
   "id": "2c5de104",
   "metadata": {},
   "source": [
    "### 10. What is the data type of None?"
   ]
  },
  {
   "cell_type": "code",
   "execution_count": 5,
   "id": "10098da0",
   "metadata": {},
   "outputs": [
    {
     "data": {
      "text/plain": [
       "NoneType"
      ]
     },
     "execution_count": 5,
     "metadata": {},
     "output_type": "execute_result"
    }
   ],
   "source": [
    "# Answer:-Nonetype\n",
    "a=None\n",
    "type(a)"
   ]
  },
  {
   "cell_type": "markdown",
   "id": "bacc0bb0",
   "metadata": {},
   "source": [
    "### 11. What does the sentence import areallyourpetsnamederic do?"
   ]
  },
  {
   "cell_type": "markdown",
   "id": "07b91901",
   "metadata": {},
   "source": [
    "Ans:-This import statement says that imports a module name as areallyourpetsnamederic"
   ]
  },
  {
   "cell_type": "markdown",
   "id": "0af71298",
   "metadata": {},
   "source": [
    "### 12. If you had a function named bacon() inside a module named spam, how would you call it after importing spam?"
   ]
  },
  {
   "cell_type": "markdown",
   "id": "bcae4a5e",
   "metadata": {},
   "source": [
    "Ans:-we would call it spam.bacon()."
   ]
  },
  {
   "cell_type": "markdown",
   "id": "47e8a1f8",
   "metadata": {},
   "source": [
    "### 13. What can you do to save a programme from crashing if it encounters an error?"
   ]
  },
  {
   "cell_type": "markdown",
   "id": "94de12c3",
   "metadata": {},
   "source": [
    "Ans:- we will use try-except blocks or other error-handling techniques, in order to handle errors and prevent the program from crashing."
   ]
  },
  {
   "cell_type": "markdown",
   "id": "7d9a3887",
   "metadata": {},
   "source": [
    "### 14. What is the purpose of the try clause? What is the purpose of the except clause?"
   ]
  },
  {
   "cell_type": "markdown",
   "id": "c254620f",
   "metadata": {},
   "source": [
    "Ans:-\n",
    "\n",
    "try- try clause is used to catch the exceptions . the statements where eceptions are raise keep inside the try clause\n",
    "\n",
    "except clause the statements that handle the exception are written inside except clause."
   ]
  },
  {
   "cell_type": "code",
   "execution_count": 6,
   "id": "0f38b87e",
   "metadata": {},
   "outputs": [
    {
     "name": "stdout",
     "output_type": "stream",
     "text": [
      "No ! You can not be divided by zero \n"
     ]
    }
   ],
   "source": [
    "#Example problem:-\n",
    "\n",
    "def divide(x, y):\n",
    "    try:\n",
    "        div = x // y\n",
    "        print(\"Yes ! Your answer is :\", div)\n",
    "    except ZeroDivisionError:\n",
    "        print(\"No ! You can not be divided by zero \")\n",
    "divide(3, 0)"
   ]
  },
  {
   "cell_type": "code",
   "execution_count": null,
   "id": "ae1a365c",
   "metadata": {},
   "outputs": [],
   "source": []
  }
 ],
 "metadata": {
  "kernelspec": {
   "display_name": "Python 3 (ipykernel)",
   "language": "python",
   "name": "python3"
  },
  "language_info": {
   "codemirror_mode": {
    "name": "ipython",
    "version": 3
   },
   "file_extension": ".py",
   "mimetype": "text/x-python",
   "name": "python",
   "nbconvert_exporter": "python",
   "pygments_lexer": "ipython3",
   "version": "3.9.7"
  }
 },
 "nbformat": 4,
 "nbformat_minor": 5
}
